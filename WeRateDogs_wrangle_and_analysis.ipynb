{
 "cells": [
  {
   "cell_type": "markdown",
   "id": "3768b1b3-e8b1-4a43-9896-95ca97deccd6",
   "metadata": {},
   "source": [
    "# Analyzing WeRateDogs Twitter Data\n",
    "by Micah Costello\n",
    "\n",
    "In this project, I will go through the entire data analysis process, from gathering and cleaning to exploration and analysis, in order to produce insights on data from the Twitter page WeRateDogs. This page is famous for posting dog ratings: a picture of a follower's dog and a rating of the dog, usually an absurdly high rating like 13/10.\n",
    "\n",
    "I'll be using data from 3 sources: \n",
    "\n",
    "* the Twitter archive\n",
    "* a file of image predictions from a neural network whose goal is to predict the dog breed shown in the Tweet image\n",
    "* Data gathered from the Twitter API\n",
    "\n",
    "With the data gathered from these sources, I will try to answer the following question:\n",
    "\n",
    "###   <p style=\"text-align: center;\">How has the WeRateDogs Twitter page changed over time?</p>\n",
    "\n",
    "\n",
    "\n",
    "The process is divided into 6 steps:\n",
    "\n",
    "1. Data Gathering\n",
    "2. Assessment\n",
    "3. Data Cleaning\n",
    "4. Augmenting the Data\n",
    "5. Storing Data\n",
    "6. Analyzing and Visualizing Data\n",
    "\n",
    "In addition, I will produce a polished report of findings in another file. "
   ]
  },
  {
   "cell_type": "markdown",
   "id": "20ca7f1b-6520-40a3-ba1c-dd7007b884f4",
   "metadata": {},
   "source": [
    "# Data Gathering\n",
    "I'll need to gather data from 3 separate sources:\n",
    "* Twitter archive data provided as a .csv file\n",
    "* Image predictions data in .tsv format, only the url provided\n",
    "* Twitter API data, specifically, count for likes, retweets, replies and quotes for each tweet\n",
    "## Twitter Archive Data\n",
    "To start, I will import the necessary libraries. Then load 'twitter-archive-enhanced.csv' into a dataframe called 'twitter_archive'."
   ]
  },
  {
   "cell_type": "code",
   "execution_count": 1,
   "id": "e2be6c84-fbc6-4ea4-8f2b-94d6b92dc7fc",
   "metadata": {},
   "outputs": [],
   "source": [
    "#import necessary libraries\n",
    "import pandas as pd\n",
    "import numpy as np\n",
    "import requests\n",
    "import tweepy\n",
    "import json\n",
    "import matplotlib.pyplot as plt\n",
    "import seaborn as sns"
   ]
  },
  {
   "cell_type": "code",
   "execution_count": 2,
   "id": "dee4e143-d9f1-4e30-bea0-eb3abb7e751e",
   "metadata": {},
   "outputs": [],
   "source": [
    "# get twitter_archive data as DataFrame\n",
    "twitter_archive = pd.read_csv('twitter-archive-enhanced.csv')"
   ]
  },
  {
   "cell_type": "markdown",
   "id": "95305a5f-3676-4074-b867-93f490947116",
   "metadata": {},
   "source": [
    "## Image Predictions Data\n",
    "To access this data in .tsv formal, I need the requests library. With the .get method, I'll extract the tsv data and store it in a file of the same name (\"image-predictions.tsv\")"
   ]
  },
  {
   "cell_type": "code",
   "execution_count": 312,
   "id": "8ceaa9c0-36a9-4ff7-866c-ba260918ad23",
   "metadata": {},
   "outputs": [],
   "source": [
    "# get image_predictions.tsv content from url\n",
    "url = 'https://d17h27t6h515a5.cloudfront.net/topher/2017/August/599fd2ad_image-predictions/image-predictions.tsv'\n",
    "response = requests.get(url)\n",
    "\n",
    "# write to a tsv file\n",
    "with open(url.split(\"/\")[-1], 'wb') as file:\n",
    "    file.write(response.content)"
   ]
  },
  {
   "cell_type": "code",
   "execution_count": 3,
   "id": "1c216f0e-1b7d-4a68-8049-5dc137f82845",
   "metadata": {},
   "outputs": [],
   "source": [
    "# read above file into dataframe called 'image_preds'\n",
    "image_preds = pd.read_csv('image-predictions.tsv', sep = '\\t')"
   ]
  },
  {
   "cell_type": "markdown",
   "id": "c0266824-d4bd-429b-bc07-3e4b9bd509e7",
   "metadata": {},
   "source": [
    "## Twitter API Data\n",
    "To obtain the counts for likes, replies, retweets and quotes, I will need to access the Twitter API through Python's tweepy library. \n",
    "\n",
    "Tweepy.API might be the most efficient way to obtain the data, but for lack of the access level required, I'm going to be using tweepy.Client. \n",
    "\n",
    "I will take the following steps to obtain the data:\n",
    "1. Set up tweepy.Client with my access credentials\n",
    "\n",
    "2. Using a for loop to loop through all the tweet ids from the twitter_archive dataframe, query the Twitter API for the desired metrics and write them to file \"tweet_json.txt\" as json strings\n",
    "\n",
    "3. Read the content of \"tweet_json.txt\" into a Pandas dataframe line by line"
   ]
  },
  {
   "cell_type": "code",
   "execution_count": 314,
   "id": "6f83a1c0-92f6-4605-8bc3-b5fbf503a32e",
   "metadata": {},
   "outputs": [],
   "source": [
    "# set up tweepy.client\n",
    "bearer_token = ''\n",
    "consumer_key = ''\n",
    "consumer_secret = ''\n",
    "access_token = ''\n",
    "access_secret = ''\n",
    "\n",
    "Client = tweepy.Client(bearer_token = bearer_token, consumer_key = consumer_key, consumer_secret = consumer_secret, \n",
    "                        access_token = access_token, access_token_secret = access_secret, \n",
    "                        wait_on_rate_limit = True)"
   ]
  },
  {
   "cell_type": "code",
   "execution_count": 315,
   "id": "23790ac3-b2c2-4859-b1b1-7b6862dd4a3a",
   "metadata": {},
   "outputs": [],
   "source": [
    "# write API data to JSON file\n",
    "\n",
    "tweet_fields = ['id','public_metrics'] \n",
    "\n",
    "with open('tweet_json.txt', 'w') as file:\n",
    "    for ids in twitter_archive['tweet_id']: # loop through tweet ids\n",
    "        try:\n",
    "            tweet = Client.get_tweet(id = ids, tweet_fields = tweet_fields) # query API for metrics\n",
    "            print(f\"SUCCESS: id {ids}\") \n",
    "            public_metrics = tweet.data['public_metrics'] # get data from API in variable as a dict\n",
    "            public_metrics['id'] = tweet.data['id'] # add tweet id to public metrics dict\n",
    "            json_string = json.dumps(public_metrics) # convert dict to JSON string\n",
    "            file.write(f\"{json_string}\\n\") # write JSON string to file , add line break\n",
    "        except:\n",
    "                print(f\"FAIL: id {ids}\") # if exception raised( tweet no longer exists) print fail message, move on\n",
    "                pass"
   ]
  },
  {
   "cell_type": "code",
   "execution_count": 27,
   "id": "9604ab37-13b5-421d-bb60-53d9ceec221b",
   "metadata": {},
   "outputs": [],
   "source": [
    "# create empty dataframe api_data\n",
    "api_data = pd.DataFrame(columns = ['retweet_count','reply_count','like_count','quote_count','id'])\n",
    "\n",
    "# loop through lines of json file, make each line a dict and concatenate with empty dataframe\n",
    "with open('tweet_json.txt','r') as file:\n",
    "    for line in file:\n",
    "        tweet_dict = json.loads(line)\n",
    "        api_data = pd.concat([api_data, pd.DataFrame([tweet_dict])],ignore_index = True)"
   ]
  },
  {
   "cell_type": "markdown",
   "id": "148810e6-a228-46f2-8e84-13c7361ed2ad",
   "metadata": {},
   "source": [
    "# Assessment \n",
    "In this section, I will be looking for any problems with the data that would hamper analysis or lead to innaccurate findings.\n",
    "\n",
    "I will use visual and programmatic assessment to detect any issues. In addition, since the aim of this project is to analyze tweets with dog image ratings from the Twitter page WeRateDogs, it is essential to verify that all of the tweets are original (no retweets) and contain images. \n",
    "\n",
    "I\"m going to go dataframe by dataframe to see what parts of each need to be cleaned. After each function used to assess, I will write a note with findings, then rewrite the notes in a list at the end of the assessment section. \n",
    "\n",
    "## 1. Twitter_archive dataframe\n",
    "\n",
    "### Visual Assessment"
   ]
  },
  {
   "cell_type": "code",
   "execution_count": 28,
   "id": "b31b1de6-e81c-4187-b0c6-74ab5cef5c57",
   "metadata": {},
   "outputs": [
    {
     "data": {
      "text/html": [
       "<div>\n",
       "<style scoped>\n",
       "    .dataframe tbody tr th:only-of-type {\n",
       "        vertical-align: middle;\n",
       "    }\n",
       "\n",
       "    .dataframe tbody tr th {\n",
       "        vertical-align: top;\n",
       "    }\n",
       "\n",
       "    .dataframe thead th {\n",
       "        text-align: right;\n",
       "    }\n",
       "</style>\n",
       "<table border=\"1\" class=\"dataframe\">\n",
       "  <thead>\n",
       "    <tr style=\"text-align: right;\">\n",
       "      <th></th>\n",
       "      <th>tweet_id</th>\n",
       "      <th>in_reply_to_status_id</th>\n",
       "      <th>in_reply_to_user_id</th>\n",
       "      <th>timestamp</th>\n",
       "      <th>source</th>\n",
       "      <th>text</th>\n",
       "      <th>retweeted_status_id</th>\n",
       "      <th>retweeted_status_user_id</th>\n",
       "      <th>retweeted_status_timestamp</th>\n",
       "      <th>expanded_urls</th>\n",
       "      <th>rating_numerator</th>\n",
       "      <th>rating_denominator</th>\n",
       "      <th>name</th>\n",
       "      <th>doggo</th>\n",
       "      <th>floofer</th>\n",
       "      <th>pupper</th>\n",
       "      <th>puppo</th>\n",
       "    </tr>\n",
       "  </thead>\n",
       "  <tbody>\n",
       "    <tr>\n",
       "      <th>0</th>\n",
       "      <td>892420643555336193</td>\n",
       "      <td>NaN</td>\n",
       "      <td>NaN</td>\n",
       "      <td>2017-08-01 16:23:56 +0000</td>\n",
       "      <td>&lt;a href=\"http://twitter.com/download/iphone\" r...</td>\n",
       "      <td>This is Phineas. He's a mystical boy. Only eve...</td>\n",
       "      <td>NaN</td>\n",
       "      <td>NaN</td>\n",
       "      <td>NaN</td>\n",
       "      <td>https://twitter.com/dog_rates/status/892420643...</td>\n",
       "      <td>13</td>\n",
       "      <td>10</td>\n",
       "      <td>Phineas</td>\n",
       "      <td>None</td>\n",
       "      <td>None</td>\n",
       "      <td>None</td>\n",
       "      <td>None</td>\n",
       "    </tr>\n",
       "    <tr>\n",
       "      <th>1</th>\n",
       "      <td>892177421306343426</td>\n",
       "      <td>NaN</td>\n",
       "      <td>NaN</td>\n",
       "      <td>2017-08-01 00:17:27 +0000</td>\n",
       "      <td>&lt;a href=\"http://twitter.com/download/iphone\" r...</td>\n",
       "      <td>This is Tilly. She's just checking pup on you....</td>\n",
       "      <td>NaN</td>\n",
       "      <td>NaN</td>\n",
       "      <td>NaN</td>\n",
       "      <td>https://twitter.com/dog_rates/status/892177421...</td>\n",
       "      <td>13</td>\n",
       "      <td>10</td>\n",
       "      <td>Tilly</td>\n",
       "      <td>None</td>\n",
       "      <td>None</td>\n",
       "      <td>None</td>\n",
       "      <td>None</td>\n",
       "    </tr>\n",
       "    <tr>\n",
       "      <th>2</th>\n",
       "      <td>891815181378084864</td>\n",
       "      <td>NaN</td>\n",
       "      <td>NaN</td>\n",
       "      <td>2017-07-31 00:18:03 +0000</td>\n",
       "      <td>&lt;a href=\"http://twitter.com/download/iphone\" r...</td>\n",
       "      <td>This is Archie. He is a rare Norwegian Pouncin...</td>\n",
       "      <td>NaN</td>\n",
       "      <td>NaN</td>\n",
       "      <td>NaN</td>\n",
       "      <td>https://twitter.com/dog_rates/status/891815181...</td>\n",
       "      <td>12</td>\n",
       "      <td>10</td>\n",
       "      <td>Archie</td>\n",
       "      <td>None</td>\n",
       "      <td>None</td>\n",
       "      <td>None</td>\n",
       "      <td>None</td>\n",
       "    </tr>\n",
       "    <tr>\n",
       "      <th>3</th>\n",
       "      <td>891689557279858688</td>\n",
       "      <td>NaN</td>\n",
       "      <td>NaN</td>\n",
       "      <td>2017-07-30 15:58:51 +0000</td>\n",
       "      <td>&lt;a href=\"http://twitter.com/download/iphone\" r...</td>\n",
       "      <td>This is Darla. She commenced a snooze mid meal...</td>\n",
       "      <td>NaN</td>\n",
       "      <td>NaN</td>\n",
       "      <td>NaN</td>\n",
       "      <td>https://twitter.com/dog_rates/status/891689557...</td>\n",
       "      <td>13</td>\n",
       "      <td>10</td>\n",
       "      <td>Darla</td>\n",
       "      <td>None</td>\n",
       "      <td>None</td>\n",
       "      <td>None</td>\n",
       "      <td>None</td>\n",
       "    </tr>\n",
       "    <tr>\n",
       "      <th>4</th>\n",
       "      <td>891327558926688256</td>\n",
       "      <td>NaN</td>\n",
       "      <td>NaN</td>\n",
       "      <td>2017-07-29 16:00:24 +0000</td>\n",
       "      <td>&lt;a href=\"http://twitter.com/download/iphone\" r...</td>\n",
       "      <td>This is Franklin. He would like you to stop ca...</td>\n",
       "      <td>NaN</td>\n",
       "      <td>NaN</td>\n",
       "      <td>NaN</td>\n",
       "      <td>https://twitter.com/dog_rates/status/891327558...</td>\n",
       "      <td>12</td>\n",
       "      <td>10</td>\n",
       "      <td>Franklin</td>\n",
       "      <td>None</td>\n",
       "      <td>None</td>\n",
       "      <td>None</td>\n",
       "      <td>None</td>\n",
       "    </tr>\n",
       "  </tbody>\n",
       "</table>\n",
       "</div>"
      ],
      "text/plain": [
       "             tweet_id  in_reply_to_status_id  in_reply_to_user_id  \\\n",
       "0  892420643555336193                    NaN                  NaN   \n",
       "1  892177421306343426                    NaN                  NaN   \n",
       "2  891815181378084864                    NaN                  NaN   \n",
       "3  891689557279858688                    NaN                  NaN   \n",
       "4  891327558926688256                    NaN                  NaN   \n",
       "\n",
       "                   timestamp  \\\n",
       "0  2017-08-01 16:23:56 +0000   \n",
       "1  2017-08-01 00:17:27 +0000   \n",
       "2  2017-07-31 00:18:03 +0000   \n",
       "3  2017-07-30 15:58:51 +0000   \n",
       "4  2017-07-29 16:00:24 +0000   \n",
       "\n",
       "                                              source  \\\n",
       "0  <a href=\"http://twitter.com/download/iphone\" r...   \n",
       "1  <a href=\"http://twitter.com/download/iphone\" r...   \n",
       "2  <a href=\"http://twitter.com/download/iphone\" r...   \n",
       "3  <a href=\"http://twitter.com/download/iphone\" r...   \n",
       "4  <a href=\"http://twitter.com/download/iphone\" r...   \n",
       "\n",
       "                                                text  retweeted_status_id  \\\n",
       "0  This is Phineas. He's a mystical boy. Only eve...                  NaN   \n",
       "1  This is Tilly. She's just checking pup on you....                  NaN   \n",
       "2  This is Archie. He is a rare Norwegian Pouncin...                  NaN   \n",
       "3  This is Darla. She commenced a snooze mid meal...                  NaN   \n",
       "4  This is Franklin. He would like you to stop ca...                  NaN   \n",
       "\n",
       "   retweeted_status_user_id retweeted_status_timestamp  \\\n",
       "0                       NaN                        NaN   \n",
       "1                       NaN                        NaN   \n",
       "2                       NaN                        NaN   \n",
       "3                       NaN                        NaN   \n",
       "4                       NaN                        NaN   \n",
       "\n",
       "                                       expanded_urls  rating_numerator  \\\n",
       "0  https://twitter.com/dog_rates/status/892420643...                13   \n",
       "1  https://twitter.com/dog_rates/status/892177421...                13   \n",
       "2  https://twitter.com/dog_rates/status/891815181...                12   \n",
       "3  https://twitter.com/dog_rates/status/891689557...                13   \n",
       "4  https://twitter.com/dog_rates/status/891327558...                12   \n",
       "\n",
       "   rating_denominator      name doggo floofer pupper puppo  \n",
       "0                  10   Phineas  None    None   None  None  \n",
       "1                  10     Tilly  None    None   None  None  \n",
       "2                  10    Archie  None    None   None  None  \n",
       "3                  10     Darla  None    None   None  None  \n",
       "4                  10  Franklin  None    None   None  None  "
      ]
     },
     "execution_count": 28,
     "metadata": {},
     "output_type": "execute_result"
    }
   ],
   "source": [
    "# visual assessment with .head()/.tail()\n",
    "twitter_archive.head()"
   ]
  },
  {
   "cell_type": "code",
   "execution_count": 29,
   "id": "22a22cb7-d3fb-4c85-a51b-10d7404d6c49",
   "metadata": {},
   "outputs": [
    {
     "data": {
      "text/html": [
       "<div>\n",
       "<style scoped>\n",
       "    .dataframe tbody tr th:only-of-type {\n",
       "        vertical-align: middle;\n",
       "    }\n",
       "\n",
       "    .dataframe tbody tr th {\n",
       "        vertical-align: top;\n",
       "    }\n",
       "\n",
       "    .dataframe thead th {\n",
       "        text-align: right;\n",
       "    }\n",
       "</style>\n",
       "<table border=\"1\" class=\"dataframe\">\n",
       "  <thead>\n",
       "    <tr style=\"text-align: right;\">\n",
       "      <th></th>\n",
       "      <th>tweet_id</th>\n",
       "      <th>in_reply_to_status_id</th>\n",
       "      <th>in_reply_to_user_id</th>\n",
       "      <th>timestamp</th>\n",
       "      <th>source</th>\n",
       "      <th>text</th>\n",
       "      <th>retweeted_status_id</th>\n",
       "      <th>retweeted_status_user_id</th>\n",
       "      <th>retweeted_status_timestamp</th>\n",
       "      <th>expanded_urls</th>\n",
       "      <th>rating_numerator</th>\n",
       "      <th>rating_denominator</th>\n",
       "      <th>name</th>\n",
       "      <th>doggo</th>\n",
       "      <th>floofer</th>\n",
       "      <th>pupper</th>\n",
       "      <th>puppo</th>\n",
       "    </tr>\n",
       "  </thead>\n",
       "  <tbody>\n",
       "    <tr>\n",
       "      <th>2351</th>\n",
       "      <td>666049248165822465</td>\n",
       "      <td>NaN</td>\n",
       "      <td>NaN</td>\n",
       "      <td>2015-11-16 00:24:50 +0000</td>\n",
       "      <td>&lt;a href=\"http://twitter.com/download/iphone\" r...</td>\n",
       "      <td>Here we have a 1949 1st generation vulpix. Enj...</td>\n",
       "      <td>NaN</td>\n",
       "      <td>NaN</td>\n",
       "      <td>NaN</td>\n",
       "      <td>https://twitter.com/dog_rates/status/666049248...</td>\n",
       "      <td>5</td>\n",
       "      <td>10</td>\n",
       "      <td>None</td>\n",
       "      <td>None</td>\n",
       "      <td>None</td>\n",
       "      <td>None</td>\n",
       "      <td>None</td>\n",
       "    </tr>\n",
       "    <tr>\n",
       "      <th>2352</th>\n",
       "      <td>666044226329800704</td>\n",
       "      <td>NaN</td>\n",
       "      <td>NaN</td>\n",
       "      <td>2015-11-16 00:04:52 +0000</td>\n",
       "      <td>&lt;a href=\"http://twitter.com/download/iphone\" r...</td>\n",
       "      <td>This is a purebred Piers Morgan. Loves to Netf...</td>\n",
       "      <td>NaN</td>\n",
       "      <td>NaN</td>\n",
       "      <td>NaN</td>\n",
       "      <td>https://twitter.com/dog_rates/status/666044226...</td>\n",
       "      <td>6</td>\n",
       "      <td>10</td>\n",
       "      <td>a</td>\n",
       "      <td>None</td>\n",
       "      <td>None</td>\n",
       "      <td>None</td>\n",
       "      <td>None</td>\n",
       "    </tr>\n",
       "    <tr>\n",
       "      <th>2353</th>\n",
       "      <td>666033412701032449</td>\n",
       "      <td>NaN</td>\n",
       "      <td>NaN</td>\n",
       "      <td>2015-11-15 23:21:54 +0000</td>\n",
       "      <td>&lt;a href=\"http://twitter.com/download/iphone\" r...</td>\n",
       "      <td>Here is a very happy pup. Big fan of well-main...</td>\n",
       "      <td>NaN</td>\n",
       "      <td>NaN</td>\n",
       "      <td>NaN</td>\n",
       "      <td>https://twitter.com/dog_rates/status/666033412...</td>\n",
       "      <td>9</td>\n",
       "      <td>10</td>\n",
       "      <td>a</td>\n",
       "      <td>None</td>\n",
       "      <td>None</td>\n",
       "      <td>None</td>\n",
       "      <td>None</td>\n",
       "    </tr>\n",
       "    <tr>\n",
       "      <th>2354</th>\n",
       "      <td>666029285002620928</td>\n",
       "      <td>NaN</td>\n",
       "      <td>NaN</td>\n",
       "      <td>2015-11-15 23:05:30 +0000</td>\n",
       "      <td>&lt;a href=\"http://twitter.com/download/iphone\" r...</td>\n",
       "      <td>This is a western brown Mitsubishi terrier. Up...</td>\n",
       "      <td>NaN</td>\n",
       "      <td>NaN</td>\n",
       "      <td>NaN</td>\n",
       "      <td>https://twitter.com/dog_rates/status/666029285...</td>\n",
       "      <td>7</td>\n",
       "      <td>10</td>\n",
       "      <td>a</td>\n",
       "      <td>None</td>\n",
       "      <td>None</td>\n",
       "      <td>None</td>\n",
       "      <td>None</td>\n",
       "    </tr>\n",
       "    <tr>\n",
       "      <th>2355</th>\n",
       "      <td>666020888022790149</td>\n",
       "      <td>NaN</td>\n",
       "      <td>NaN</td>\n",
       "      <td>2015-11-15 22:32:08 +0000</td>\n",
       "      <td>&lt;a href=\"http://twitter.com/download/iphone\" r...</td>\n",
       "      <td>Here we have a Japanese Irish Setter. Lost eye...</td>\n",
       "      <td>NaN</td>\n",
       "      <td>NaN</td>\n",
       "      <td>NaN</td>\n",
       "      <td>https://twitter.com/dog_rates/status/666020888...</td>\n",
       "      <td>8</td>\n",
       "      <td>10</td>\n",
       "      <td>None</td>\n",
       "      <td>None</td>\n",
       "      <td>None</td>\n",
       "      <td>None</td>\n",
       "      <td>None</td>\n",
       "    </tr>\n",
       "  </tbody>\n",
       "</table>\n",
       "</div>"
      ],
      "text/plain": [
       "                tweet_id  in_reply_to_status_id  in_reply_to_user_id  \\\n",
       "2351  666049248165822465                    NaN                  NaN   \n",
       "2352  666044226329800704                    NaN                  NaN   \n",
       "2353  666033412701032449                    NaN                  NaN   \n",
       "2354  666029285002620928                    NaN                  NaN   \n",
       "2355  666020888022790149                    NaN                  NaN   \n",
       "\n",
       "                      timestamp  \\\n",
       "2351  2015-11-16 00:24:50 +0000   \n",
       "2352  2015-11-16 00:04:52 +0000   \n",
       "2353  2015-11-15 23:21:54 +0000   \n",
       "2354  2015-11-15 23:05:30 +0000   \n",
       "2355  2015-11-15 22:32:08 +0000   \n",
       "\n",
       "                                                 source  \\\n",
       "2351  <a href=\"http://twitter.com/download/iphone\" r...   \n",
       "2352  <a href=\"http://twitter.com/download/iphone\" r...   \n",
       "2353  <a href=\"http://twitter.com/download/iphone\" r...   \n",
       "2354  <a href=\"http://twitter.com/download/iphone\" r...   \n",
       "2355  <a href=\"http://twitter.com/download/iphone\" r...   \n",
       "\n",
       "                                                   text  retweeted_status_id  \\\n",
       "2351  Here we have a 1949 1st generation vulpix. Enj...                  NaN   \n",
       "2352  This is a purebred Piers Morgan. Loves to Netf...                  NaN   \n",
       "2353  Here is a very happy pup. Big fan of well-main...                  NaN   \n",
       "2354  This is a western brown Mitsubishi terrier. Up...                  NaN   \n",
       "2355  Here we have a Japanese Irish Setter. Lost eye...                  NaN   \n",
       "\n",
       "      retweeted_status_user_id retweeted_status_timestamp  \\\n",
       "2351                       NaN                        NaN   \n",
       "2352                       NaN                        NaN   \n",
       "2353                       NaN                        NaN   \n",
       "2354                       NaN                        NaN   \n",
       "2355                       NaN                        NaN   \n",
       "\n",
       "                                          expanded_urls  rating_numerator  \\\n",
       "2351  https://twitter.com/dog_rates/status/666049248...                 5   \n",
       "2352  https://twitter.com/dog_rates/status/666044226...                 6   \n",
       "2353  https://twitter.com/dog_rates/status/666033412...                 9   \n",
       "2354  https://twitter.com/dog_rates/status/666029285...                 7   \n",
       "2355  https://twitter.com/dog_rates/status/666020888...                 8   \n",
       "\n",
       "      rating_denominator  name doggo floofer pupper puppo  \n",
       "2351                  10  None  None    None   None  None  \n",
       "2352                  10     a  None    None   None  None  \n",
       "2353                  10     a  None    None   None  None  \n",
       "2354                  10     a  None    None   None  None  \n",
       "2355                  10  None  None    None   None  None  "
      ]
     },
     "execution_count": 29,
     "metadata": {},
     "output_type": "execute_result"
    }
   ],
   "source": [
    "# with .tail()\n",
    "twitter_archive.tail()"
   ]
  },
  {
   "cell_type": "markdown",
   "id": "bf9c049b-96be-4bb2-93a6-07fa3e602219",
   "metadata": {},
   "source": [
    "From the above outputs I see the following problems:\n",
    "* Source column retained html formatting - I'll investigate below.\n",
    "* text and expanded_url columns are truncated - not a problem, but I'll need to see the full strings to know if there is one\n",
    "* Rating divided into numerator and denominator columns - having a single column for rating out of ten would be better(assuming all denominators are ten)\n",
    "* Each dog stage (\"doggo\", \"pupper\", etc.) has its own column. Added to cleaning list.\n",
    "* columns about retweets imply that some of the data aren't original dog image posts, but rather retweets. Added to cleaning list.\n",
    "* For a few rows in the tail, the dog name is \"a\". I'll investigate below.\n",
    "\n",
    "## Further Investigation:\n",
    "\n",
    "### Source column formatting\n",
    "I'll start by taking a look at the source column."
   ]
  },
  {
   "cell_type": "code",
   "execution_count": 30,
   "id": "bc31f2af-4270-439b-96e1-0f841579cc43",
   "metadata": {},
   "outputs": [
    {
     "data": {
      "text/plain": [
       "<a href=\"http://twitter.com/download/iphone\" rel=\"nofollow\">Twitter for iPhone</a>     2221\n",
       "<a href=\"http://vine.co\" rel=\"nofollow\">Vine - Make a Scene</a>                          91\n",
       "<a href=\"http://twitter.com\" rel=\"nofollow\">Twitter Web Client</a>                       33\n",
       "<a href=\"https://about.twitter.com/products/tweetdeck\" rel=\"nofollow\">TweetDeck</a>      11\n",
       "Name: source, dtype: int64"
      ]
     },
     "execution_count": 30,
     "metadata": {},
     "output_type": "execute_result"
    }
   ],
   "source": [
    "# see different values for source column\n",
    "twitter_archive.source.value_counts()"
   ]
  },
  {
   "cell_type": "markdown",
   "id": "7aabc22a-772f-4cae-a61b-dd6057837d3f",
   "metadata": {},
   "source": [
    "There are 4 values in the source column, which correspond to :\n",
    "* the twitter application\n",
    "* Vine posts\n",
    "* the twitter website\n",
    "* TweetDeck. \n",
    "\n",
    "These values could be improved for readability and easier querying. Added to cleaning list.\n",
    "\n",
    "## Further Investigation:\n",
    "\n",
    "### Truncated text column\n",
    "Now I'll check the full text string for issues. "
   ]
  },
  {
   "cell_type": "code",
   "execution_count": 31,
   "id": "da724bde-6466-4fa4-affa-d18c41e31448",
   "metadata": {},
   "outputs": [
    {
     "name": "stdout",
     "output_type": "stream",
     "text": [
      "This is Phineas. He's a mystical boy. Only ever appears in the hole of a donut. 13/10 https://t.co/MgUWQ76dJU\n",
      "This is Tilly. She's just checking pup on you. Hopes you're doing ok. If not, she's available for pats, snugs, boops, the whole bit. 13/10 https://t.co/0Xxu71qeIV\n",
      "This is Archie. He is a rare Norwegian Pouncing Corgo. Lives in the tall grass. You never know when one may strike. 12/10 https://t.co/wUnZnhtVJB\n"
     ]
    }
   ],
   "source": [
    "for i in range(3):\n",
    "    print(twitter_archive.text[i])"
   ]
  },
  {
   "cell_type": "markdown",
   "id": "91712941-76a1-4f06-aa65-84e64b38ede8",
   "metadata": {},
   "source": [
    "The shortened url appears at the end of the text string. This value already has its own column, expanded_urls, and could hamper any analysis of the tweet texts I might decide to do. Added to cleaning list."
   ]
  },
  {
   "cell_type": "markdown",
   "id": "527a42b0-abda-4fee-b4b3-95d4e66e1685",
   "metadata": {},
   "source": [
    "## Further Investigation:\n",
    "\n",
    "### Truncated expanded_url column\n",
    "\n",
    "Let's check the expanded_url column. As it is truncated, I will print a few rows to see the full string."
   ]
  },
  {
   "cell_type": "code",
   "execution_count": 32,
   "id": "c8078665-fa59-4c81-9d25-c8b358bebba9",
   "metadata": {},
   "outputs": [
    {
     "name": "stdout",
     "output_type": "stream",
     "text": [
      "https://twitter.com/dog_rates/status/892420643555336193/photo/1\n",
      "https://twitter.com/dog_rates/status/892177421306343426/photo/1\n",
      "https://twitter.com/dog_rates/status/891815181378084864/photo/1\n"
     ]
    }
   ],
   "source": [
    "# run loop to efficiently print three rows of expanded_urls column\n",
    "for i in range(3):\n",
    "    print(twitter_archive.expanded_urls[i])"
   ]
  },
  {
   "cell_type": "markdown",
   "id": "c0145e50-9917-4cc6-8d72-70a941e72ccb",
   "metadata": {},
   "source": [
    "-\n",
    "\n",
    "This column is without issue, but it was important to see it in its entirety."
   ]
  },
  {
   "cell_type": "markdown",
   "id": "75fd0bb3-0eeb-47bc-b512-50227d5171de",
   "metadata": {
    "tags": []
   },
   "source": [
    "## Further investigation:\n",
    "### Dog Name \"a\"\n",
    "Next I'll check the tweets where the dog name is \"a.\" "
   ]
  },
  {
   "cell_type": "code",
   "execution_count": 33,
   "id": "73ad33fc-14cf-4f64-9c1d-fbfabd140c9a",
   "metadata": {},
   "outputs": [
    {
     "data": {
      "text/plain": [
       "(55, 17)"
      ]
     },
     "execution_count": 33,
     "metadata": {},
     "output_type": "execute_result"
    }
   ],
   "source": [
    "# see number of tweets with dog name \"a\"\n",
    "twitter_archive.query(\"name == 'a'\").shape"
   ]
  },
  {
   "cell_type": "markdown",
   "id": "f9feca08-60a2-45c7-97c8-52ca046254df",
   "metadata": {},
   "source": [
    "There are 55 rows with this name. I'll check text column for a few of the rows to look for a pattern. "
   ]
  },
  {
   "cell_type": "code",
   "execution_count": 34,
   "id": "cceaf526-9880-414f-aaba-950eba0f156a",
   "metadata": {},
   "outputs": [
    {
     "name": "stdout",
     "output_type": "stream",
     "text": [
      "Here is a pupper approaching maximum borkdrive. Zooming at never before seen speeds. 14/10 paw-inspiring af \n",
      "(IG: puffie_the_chow) https://t.co/ghXBIIeQZF\n",
      "Here is a perfect example of someone who has their priorities in order. 13/10 for both owner and Forrest https://t.co/LRyMrU7Wfq\n",
      "Guys this is getting so out of hand. We only rate dogs. This is a Galapagos Speed Panda. Pls only send dogs... 10/10 https://t.co/8lpAGaZRFn\n",
      "This is a mighty rare blue-tailed hammer sherk. Human almost lost a limb trying to take these. Be careful guys. 8/10 https://t.co/TGenMeXreW\n",
      "Viewer discretion is advised. This is a terrible attack in progress. Not even in water (tragic af). 4/10 bad sherk https://t.co/L3U0j14N5R\n"
     ]
    }
   ],
   "source": [
    "# check the text column of rows with dog name \"a\" \n",
    "a_dogs = twitter_archive.query(\"name == 'a'\").reset_index() #reset index to use range function. Otherwise indexes out of order\n",
    "for i in range(5):\n",
    "    print(a_dogs.text[i]) # print to avoid text being truncated "
   ]
  },
  {
   "cell_type": "markdown",
   "id": "425f43fc-8bdb-44d1-905a-472724addbe1",
   "metadata": {},
   "source": [
    "-\n",
    "\n",
    "\n",
    "Unclear as to why the dog name is \"a\". These are all posts without names. It seems the name for these rows should be \"None\". Added to cleaning list.\n",
    "\n",
    "## Programmatic Assessment\n",
    "Having checked the issues discovered by visual assessment, I'll move on to programmatic assessment with .info() and .describe()."
   ]
  },
  {
   "cell_type": "code",
   "execution_count": 35,
   "id": "22e848e8-259b-4656-9120-be28c4a9d709",
   "metadata": {},
   "outputs": [
    {
     "name": "stdout",
     "output_type": "stream",
     "text": [
      "<class 'pandas.core.frame.DataFrame'>\n",
      "RangeIndex: 2356 entries, 0 to 2355\n",
      "Data columns (total 17 columns):\n",
      " #   Column                      Non-Null Count  Dtype  \n",
      "---  ------                      --------------  -----  \n",
      " 0   tweet_id                    2356 non-null   int64  \n",
      " 1   in_reply_to_status_id       78 non-null     float64\n",
      " 2   in_reply_to_user_id         78 non-null     float64\n",
      " 3   timestamp                   2356 non-null   object \n",
      " 4   source                      2356 non-null   object \n",
      " 5   text                        2356 non-null   object \n",
      " 6   retweeted_status_id         181 non-null    float64\n",
      " 7   retweeted_status_user_id    181 non-null    float64\n",
      " 8   retweeted_status_timestamp  181 non-null    object \n",
      " 9   expanded_urls               2297 non-null   object \n",
      " 10  rating_numerator            2356 non-null   int64  \n",
      " 11  rating_denominator          2356 non-null   int64  \n",
      " 12  name                        2356 non-null   object \n",
      " 13  doggo                       2356 non-null   object \n",
      " 14  floofer                     2356 non-null   object \n",
      " 15  pupper                      2356 non-null   object \n",
      " 16  puppo                       2356 non-null   object \n",
      "dtypes: float64(4), int64(3), object(10)\n",
      "memory usage: 313.0+ KB\n"
     ]
    }
   ],
   "source": [
    "# programatic assessment with .info()\n",
    "twitter_archive.info()"
   ]
  },
  {
   "cell_type": "markdown",
   "id": "c3e73030-efdc-47e8-bf18-50f9bac85c1d",
   "metadata": {},
   "source": [
    "-\n",
    "\n",
    "\n",
    "\n",
    "The .info() function restates what we alreaady know, that some tweets are retweets.\n",
    "\n",
    "It is normal to have NaNs in the in_reply_to column. \n",
    "\n",
    "However, the expanded_urls columns also has NaNs. I'll investigate below to see if it can be recovered from the text column.\n"
   ]
  },
  {
   "cell_type": "code",
   "execution_count": 36,
   "id": "8bba080c-ad49-471e-ab11-a903cf85755d",
   "metadata": {},
   "outputs": [
    {
     "name": "stdout",
     "output_type": "stream",
     "text": [
      "@NonWhiteHat @MayhewMayhem omg hello tanner you are a scary good boy 12/10 would pet with extreme caution\n",
      "@roushfenway These are good dogs but 17/10 is an emotional impulse rating. More like 13/10s\n",
      "@RealKentMurphy 14/10 confirmed\n",
      "@ComplicitOwl @ShopWeRateDogs &gt;10/10 is reserved for dogs\n",
      "@Jack_Septic_Eye I'd need a few more pics to polish a full analysis, but based on the good boy content above I'm leaning towards 12/10\n"
     ]
    }
   ],
   "source": [
    "# get index of rows with NaN in expanded_urls column\n",
    "url_nans = twitter_archive[twitter_archive.expanded_urls.isnull()].index\n",
    "\n",
    "# print a few rows to investigate\n",
    "for inx in url_nans[:5]:\n",
    "    print(twitter_archive.text[inx])"
   ]
  },
  {
   "cell_type": "markdown",
   "id": "5057d857-2bbe-46e2-9729-3fd2738ad932",
   "metadata": {},
   "source": [
    "-\n",
    "\n",
    "\n",
    "I do not want to run all 59 of the text strings here, but the 5 printed aboove are representative of the rest. There is no url. These rows are not valid dog ratings and will have to be removed. Added to cleaning list.\n",
    "\n",
    "Now I can move on to .describe()"
   ]
  },
  {
   "cell_type": "markdown",
   "id": "00977968-366c-4be8-8deb-51b9e5d1c591",
   "metadata": {},
   "source": [
    "### Assessment with .describe()"
   ]
  },
  {
   "cell_type": "code",
   "execution_count": 37,
   "id": "0569b35b-51bf-4397-8b93-5f4cb9cacf5b",
   "metadata": {},
   "outputs": [
    {
     "data": {
      "text/html": [
       "<div>\n",
       "<style scoped>\n",
       "    .dataframe tbody tr th:only-of-type {\n",
       "        vertical-align: middle;\n",
       "    }\n",
       "\n",
       "    .dataframe tbody tr th {\n",
       "        vertical-align: top;\n",
       "    }\n",
       "\n",
       "    .dataframe thead th {\n",
       "        text-align: right;\n",
       "    }\n",
       "</style>\n",
       "<table border=\"1\" class=\"dataframe\">\n",
       "  <thead>\n",
       "    <tr style=\"text-align: right;\">\n",
       "      <th></th>\n",
       "      <th>tweet_id</th>\n",
       "      <th>in_reply_to_status_id</th>\n",
       "      <th>in_reply_to_user_id</th>\n",
       "      <th>retweeted_status_id</th>\n",
       "      <th>retweeted_status_user_id</th>\n",
       "      <th>rating_numerator</th>\n",
       "      <th>rating_denominator</th>\n",
       "    </tr>\n",
       "  </thead>\n",
       "  <tbody>\n",
       "    <tr>\n",
       "      <th>count</th>\n",
       "      <td>2.356000e+03</td>\n",
       "      <td>7.800000e+01</td>\n",
       "      <td>7.800000e+01</td>\n",
       "      <td>1.810000e+02</td>\n",
       "      <td>1.810000e+02</td>\n",
       "      <td>2356.000000</td>\n",
       "      <td>2356.000000</td>\n",
       "    </tr>\n",
       "    <tr>\n",
       "      <th>mean</th>\n",
       "      <td>7.427716e+17</td>\n",
       "      <td>7.455079e+17</td>\n",
       "      <td>2.014171e+16</td>\n",
       "      <td>7.720400e+17</td>\n",
       "      <td>1.241698e+16</td>\n",
       "      <td>13.126486</td>\n",
       "      <td>10.455433</td>\n",
       "    </tr>\n",
       "    <tr>\n",
       "      <th>std</th>\n",
       "      <td>6.856705e+16</td>\n",
       "      <td>7.582492e+16</td>\n",
       "      <td>1.252797e+17</td>\n",
       "      <td>6.236928e+16</td>\n",
       "      <td>9.599254e+16</td>\n",
       "      <td>45.876648</td>\n",
       "      <td>6.745237</td>\n",
       "    </tr>\n",
       "    <tr>\n",
       "      <th>min</th>\n",
       "      <td>6.660209e+17</td>\n",
       "      <td>6.658147e+17</td>\n",
       "      <td>1.185634e+07</td>\n",
       "      <td>6.661041e+17</td>\n",
       "      <td>7.832140e+05</td>\n",
       "      <td>0.000000</td>\n",
       "      <td>0.000000</td>\n",
       "    </tr>\n",
       "    <tr>\n",
       "      <th>25%</th>\n",
       "      <td>6.783989e+17</td>\n",
       "      <td>6.757419e+17</td>\n",
       "      <td>3.086374e+08</td>\n",
       "      <td>7.186315e+17</td>\n",
       "      <td>4.196984e+09</td>\n",
       "      <td>10.000000</td>\n",
       "      <td>10.000000</td>\n",
       "    </tr>\n",
       "    <tr>\n",
       "      <th>50%</th>\n",
       "      <td>7.196279e+17</td>\n",
       "      <td>7.038708e+17</td>\n",
       "      <td>4.196984e+09</td>\n",
       "      <td>7.804657e+17</td>\n",
       "      <td>4.196984e+09</td>\n",
       "      <td>11.000000</td>\n",
       "      <td>10.000000</td>\n",
       "    </tr>\n",
       "    <tr>\n",
       "      <th>75%</th>\n",
       "      <td>7.993373e+17</td>\n",
       "      <td>8.257804e+17</td>\n",
       "      <td>4.196984e+09</td>\n",
       "      <td>8.203146e+17</td>\n",
       "      <td>4.196984e+09</td>\n",
       "      <td>12.000000</td>\n",
       "      <td>10.000000</td>\n",
       "    </tr>\n",
       "    <tr>\n",
       "      <th>max</th>\n",
       "      <td>8.924206e+17</td>\n",
       "      <td>8.862664e+17</td>\n",
       "      <td>8.405479e+17</td>\n",
       "      <td>8.874740e+17</td>\n",
       "      <td>7.874618e+17</td>\n",
       "      <td>1776.000000</td>\n",
       "      <td>170.000000</td>\n",
       "    </tr>\n",
       "  </tbody>\n",
       "</table>\n",
       "</div>"
      ],
      "text/plain": [
       "           tweet_id  in_reply_to_status_id  in_reply_to_user_id  \\\n",
       "count  2.356000e+03           7.800000e+01         7.800000e+01   \n",
       "mean   7.427716e+17           7.455079e+17         2.014171e+16   \n",
       "std    6.856705e+16           7.582492e+16         1.252797e+17   \n",
       "min    6.660209e+17           6.658147e+17         1.185634e+07   \n",
       "25%    6.783989e+17           6.757419e+17         3.086374e+08   \n",
       "50%    7.196279e+17           7.038708e+17         4.196984e+09   \n",
       "75%    7.993373e+17           8.257804e+17         4.196984e+09   \n",
       "max    8.924206e+17           8.862664e+17         8.405479e+17   \n",
       "\n",
       "       retweeted_status_id  retweeted_status_user_id  rating_numerator  \\\n",
       "count         1.810000e+02              1.810000e+02       2356.000000   \n",
       "mean          7.720400e+17              1.241698e+16         13.126486   \n",
       "std           6.236928e+16              9.599254e+16         45.876648   \n",
       "min           6.661041e+17              7.832140e+05          0.000000   \n",
       "25%           7.186315e+17              4.196984e+09         10.000000   \n",
       "50%           7.804657e+17              4.196984e+09         11.000000   \n",
       "75%           8.203146e+17              4.196984e+09         12.000000   \n",
       "max           8.874740e+17              7.874618e+17       1776.000000   \n",
       "\n",
       "       rating_denominator  \n",
       "count         2356.000000  \n",
       "mean            10.455433  \n",
       "std              6.745237  \n",
       "min              0.000000  \n",
       "25%             10.000000  \n",
       "50%             10.000000  \n",
       "75%             10.000000  \n",
       "max            170.000000  "
      ]
     },
     "execution_count": 37,
     "metadata": {},
     "output_type": "execute_result"
    }
   ],
   "source": [
    "# assessment with .describe()\n",
    "twitter_archive.describe()"
   ]
  },
  {
   "cell_type": "markdown",
   "id": "0863c1a3-1316-4948-b713-5c4e514e55bd",
   "metadata": {},
   "source": [
    "From this function I see the following issues:\n",
    "* Some rating denominators aren't 10 ( max is 170 and min is 0). Investigation below\n",
    "* Zero in numerator seems suspicious given the style of the page and the normal ratings that are greater than 10. Investigation below\n",
    "\n",
    "## Further Investigation:\n",
    "\n",
    "### Rows where rating_denominator does not equal 10"
   ]
  },
  {
   "cell_type": "code",
   "execution_count": 38,
   "id": "520fc25a-84a3-4b5f-b9c6-f578a70f1c80",
   "metadata": {},
   "outputs": [
    {
     "data": {
      "text/plain": [
       "(23, 17)"
      ]
     },
     "execution_count": 38,
     "metadata": {},
     "output_type": "execute_result"
    }
   ],
   "source": [
    "# check number of rows where denomminator is not 10\n",
    "twitter_archive.query(\"rating_denominator != 10\").shape"
   ]
  },
  {
   "cell_type": "code",
   "execution_count": 39,
   "id": "47e2fee7-3974-4ed8-956f-87f8dec32912",
   "metadata": {},
   "outputs": [
    {
     "data": {
      "text/html": [
       "<div>\n",
       "<style scoped>\n",
       "    .dataframe tbody tr th:only-of-type {\n",
       "        vertical-align: middle;\n",
       "    }\n",
       "\n",
       "    .dataframe tbody tr th {\n",
       "        vertical-align: top;\n",
       "    }\n",
       "\n",
       "    .dataframe thead th {\n",
       "        text-align: right;\n",
       "    }\n",
       "</style>\n",
       "<table border=\"1\" class=\"dataframe\">\n",
       "  <thead>\n",
       "    <tr style=\"text-align: right;\">\n",
       "      <th></th>\n",
       "      <th>tweet_id</th>\n",
       "      <th>in_reply_to_status_id</th>\n",
       "      <th>in_reply_to_user_id</th>\n",
       "      <th>timestamp</th>\n",
       "      <th>source</th>\n",
       "      <th>text</th>\n",
       "      <th>retweeted_status_id</th>\n",
       "      <th>retweeted_status_user_id</th>\n",
       "      <th>retweeted_status_timestamp</th>\n",
       "      <th>expanded_urls</th>\n",
       "      <th>rating_numerator</th>\n",
       "      <th>rating_denominator</th>\n",
       "      <th>name</th>\n",
       "      <th>doggo</th>\n",
       "      <th>floofer</th>\n",
       "      <th>pupper</th>\n",
       "      <th>puppo</th>\n",
       "    </tr>\n",
       "  </thead>\n",
       "  <tbody>\n",
       "    <tr>\n",
       "      <th>313</th>\n",
       "      <td>835246439529840640</td>\n",
       "      <td>8.352460e+17</td>\n",
       "      <td>26259576.0</td>\n",
       "      <td>2017-02-24 21:54:03 +0000</td>\n",
       "      <td>&lt;a href=\"http://twitter.com/download/iphone\" r...</td>\n",
       "      <td>@jonnysun @Lin_Manuel ok jomny I know you're e...</td>\n",
       "      <td>NaN</td>\n",
       "      <td>NaN</td>\n",
       "      <td>NaN</td>\n",
       "      <td>NaN</td>\n",
       "      <td>960</td>\n",
       "      <td>0</td>\n",
       "      <td>None</td>\n",
       "      <td>None</td>\n",
       "      <td>None</td>\n",
       "      <td>None</td>\n",
       "      <td>None</td>\n",
       "    </tr>\n",
       "    <tr>\n",
       "      <th>342</th>\n",
       "      <td>832088576586297345</td>\n",
       "      <td>8.320875e+17</td>\n",
       "      <td>30582082.0</td>\n",
       "      <td>2017-02-16 04:45:50 +0000</td>\n",
       "      <td>&lt;a href=\"http://twitter.com/download/iphone\" r...</td>\n",
       "      <td>@docmisterio account started on 11/15/15</td>\n",
       "      <td>NaN</td>\n",
       "      <td>NaN</td>\n",
       "      <td>NaN</td>\n",
       "      <td>NaN</td>\n",
       "      <td>11</td>\n",
       "      <td>15</td>\n",
       "      <td>None</td>\n",
       "      <td>None</td>\n",
       "      <td>None</td>\n",
       "      <td>None</td>\n",
       "      <td>None</td>\n",
       "    </tr>\n",
       "    <tr>\n",
       "      <th>433</th>\n",
       "      <td>820690176645140481</td>\n",
       "      <td>NaN</td>\n",
       "      <td>NaN</td>\n",
       "      <td>2017-01-15 17:52:40 +0000</td>\n",
       "      <td>&lt;a href=\"http://twitter.com/download/iphone\" r...</td>\n",
       "      <td>The floofs have been released I repeat the flo...</td>\n",
       "      <td>NaN</td>\n",
       "      <td>NaN</td>\n",
       "      <td>NaN</td>\n",
       "      <td>https://twitter.com/dog_rates/status/820690176...</td>\n",
       "      <td>84</td>\n",
       "      <td>70</td>\n",
       "      <td>None</td>\n",
       "      <td>None</td>\n",
       "      <td>None</td>\n",
       "      <td>None</td>\n",
       "      <td>None</td>\n",
       "    </tr>\n",
       "    <tr>\n",
       "      <th>516</th>\n",
       "      <td>810984652412424192</td>\n",
       "      <td>NaN</td>\n",
       "      <td>NaN</td>\n",
       "      <td>2016-12-19 23:06:23 +0000</td>\n",
       "      <td>&lt;a href=\"http://twitter.com/download/iphone\" r...</td>\n",
       "      <td>Meet Sam. She smiles 24/7 &amp;amp; secretly aspir...</td>\n",
       "      <td>NaN</td>\n",
       "      <td>NaN</td>\n",
       "      <td>NaN</td>\n",
       "      <td>https://www.gofundme.com/sams-smile,https://tw...</td>\n",
       "      <td>24</td>\n",
       "      <td>7</td>\n",
       "      <td>Sam</td>\n",
       "      <td>None</td>\n",
       "      <td>None</td>\n",
       "      <td>None</td>\n",
       "      <td>None</td>\n",
       "    </tr>\n",
       "    <tr>\n",
       "      <th>784</th>\n",
       "      <td>775096608509886464</td>\n",
       "      <td>NaN</td>\n",
       "      <td>NaN</td>\n",
       "      <td>2016-09-11 22:20:06 +0000</td>\n",
       "      <td>&lt;a href=\"http://twitter.com/download/iphone\" r...</td>\n",
       "      <td>RT @dog_rates: After so many requests, this is...</td>\n",
       "      <td>7.403732e+17</td>\n",
       "      <td>4.196984e+09</td>\n",
       "      <td>2016-06-08 02:41:38 +0000</td>\n",
       "      <td>https://twitter.com/dog_rates/status/740373189...</td>\n",
       "      <td>9</td>\n",
       "      <td>11</td>\n",
       "      <td>None</td>\n",
       "      <td>None</td>\n",
       "      <td>None</td>\n",
       "      <td>None</td>\n",
       "      <td>None</td>\n",
       "    </tr>\n",
       "  </tbody>\n",
       "</table>\n",
       "</div>"
      ],
      "text/plain": [
       "               tweet_id  in_reply_to_status_id  in_reply_to_user_id  \\\n",
       "313  835246439529840640           8.352460e+17           26259576.0   \n",
       "342  832088576586297345           8.320875e+17           30582082.0   \n",
       "433  820690176645140481                    NaN                  NaN   \n",
       "516  810984652412424192                    NaN                  NaN   \n",
       "784  775096608509886464                    NaN                  NaN   \n",
       "\n",
       "                     timestamp  \\\n",
       "313  2017-02-24 21:54:03 +0000   \n",
       "342  2017-02-16 04:45:50 +0000   \n",
       "433  2017-01-15 17:52:40 +0000   \n",
       "516  2016-12-19 23:06:23 +0000   \n",
       "784  2016-09-11 22:20:06 +0000   \n",
       "\n",
       "                                                source  \\\n",
       "313  <a href=\"http://twitter.com/download/iphone\" r...   \n",
       "342  <a href=\"http://twitter.com/download/iphone\" r...   \n",
       "433  <a href=\"http://twitter.com/download/iphone\" r...   \n",
       "516  <a href=\"http://twitter.com/download/iphone\" r...   \n",
       "784  <a href=\"http://twitter.com/download/iphone\" r...   \n",
       "\n",
       "                                                  text  retweeted_status_id  \\\n",
       "313  @jonnysun @Lin_Manuel ok jomny I know you're e...                  NaN   \n",
       "342           @docmisterio account started on 11/15/15                  NaN   \n",
       "433  The floofs have been released I repeat the flo...                  NaN   \n",
       "516  Meet Sam. She smiles 24/7 &amp; secretly aspir...                  NaN   \n",
       "784  RT @dog_rates: After so many requests, this is...         7.403732e+17   \n",
       "\n",
       "     retweeted_status_user_id retweeted_status_timestamp  \\\n",
       "313                       NaN                        NaN   \n",
       "342                       NaN                        NaN   \n",
       "433                       NaN                        NaN   \n",
       "516                       NaN                        NaN   \n",
       "784              4.196984e+09  2016-06-08 02:41:38 +0000   \n",
       "\n",
       "                                         expanded_urls  rating_numerator  \\\n",
       "313                                                NaN               960   \n",
       "342                                                NaN                11   \n",
       "433  https://twitter.com/dog_rates/status/820690176...                84   \n",
       "516  https://www.gofundme.com/sams-smile,https://tw...                24   \n",
       "784  https://twitter.com/dog_rates/status/740373189...                 9   \n",
       "\n",
       "     rating_denominator  name doggo floofer pupper puppo  \n",
       "313                   0  None  None    None   None  None  \n",
       "342                  15  None  None    None   None  None  \n",
       "433                  70  None  None    None   None  None  \n",
       "516                   7   Sam  None    None   None  None  \n",
       "784                  11  None  None    None   None  None  "
      ]
     },
     "execution_count": 39,
     "metadata": {},
     "output_type": "execute_result"
    }
   ],
   "source": [
    "# Check rows where denominator is not 10\n",
    "twitter_archive.query(\"rating_denominator != 10\").head()"
   ]
  },
  {
   "cell_type": "markdown",
   "id": "53de0bc0-6057-4fe0-9a5f-3ae9566b5ccf",
   "metadata": {},
   "source": [
    "From the above, it seems the ratings were extracted using regex, which sometimes confused the ratings with other numbers separated by slashes, like dates (\"11/15/15\") or the expression \"24/7.\" 23 rows have this issue. \n",
    "\n",
    "It is also possible that some of the actual ratings from WeRateDogs are not, in fact, out of 10. But given the number that are, it would be best to standardize the ratings in an out of 10 column. Added to cleaning list.\n",
    "\n",
    "## Further Investigation:\n",
    "### Rows where rating_numerator does not equal 10"
   ]
  },
  {
   "cell_type": "code",
   "execution_count": 40,
   "id": "a226268b-b049-4ce8-986d-ba657129eb4e",
   "metadata": {},
   "outputs": [
    {
     "data": {
      "text/html": [
       "<div>\n",
       "<style scoped>\n",
       "    .dataframe tbody tr th:only-of-type {\n",
       "        vertical-align: middle;\n",
       "    }\n",
       "\n",
       "    .dataframe tbody tr th {\n",
       "        vertical-align: top;\n",
       "    }\n",
       "\n",
       "    .dataframe thead th {\n",
       "        text-align: right;\n",
       "    }\n",
       "</style>\n",
       "<table border=\"1\" class=\"dataframe\">\n",
       "  <thead>\n",
       "    <tr style=\"text-align: right;\">\n",
       "      <th></th>\n",
       "      <th>tweet_id</th>\n",
       "      <th>in_reply_to_status_id</th>\n",
       "      <th>in_reply_to_user_id</th>\n",
       "      <th>timestamp</th>\n",
       "      <th>source</th>\n",
       "      <th>text</th>\n",
       "      <th>retweeted_status_id</th>\n",
       "      <th>retweeted_status_user_id</th>\n",
       "      <th>retweeted_status_timestamp</th>\n",
       "      <th>expanded_urls</th>\n",
       "      <th>rating_numerator</th>\n",
       "      <th>rating_denominator</th>\n",
       "      <th>name</th>\n",
       "      <th>doggo</th>\n",
       "      <th>floofer</th>\n",
       "      <th>pupper</th>\n",
       "      <th>puppo</th>\n",
       "    </tr>\n",
       "  </thead>\n",
       "  <tbody>\n",
       "    <tr>\n",
       "      <th>315</th>\n",
       "      <td>835152434251116546</td>\n",
       "      <td>NaN</td>\n",
       "      <td>NaN</td>\n",
       "      <td>2017-02-24 15:40:31 +0000</td>\n",
       "      <td>&lt;a href=\"http://twitter.com/download/iphone\" r...</td>\n",
       "      <td>When you're so blinded by your systematic plag...</td>\n",
       "      <td>NaN</td>\n",
       "      <td>NaN</td>\n",
       "      <td>NaN</td>\n",
       "      <td>https://twitter.com/dog_rates/status/835152434...</td>\n",
       "      <td>0</td>\n",
       "      <td>10</td>\n",
       "      <td>None</td>\n",
       "      <td>None</td>\n",
       "      <td>None</td>\n",
       "      <td>None</td>\n",
       "      <td>None</td>\n",
       "    </tr>\n",
       "    <tr>\n",
       "      <th>1016</th>\n",
       "      <td>746906459439529985</td>\n",
       "      <td>7.468859e+17</td>\n",
       "      <td>4.196984e+09</td>\n",
       "      <td>2016-06-26 03:22:31 +0000</td>\n",
       "      <td>&lt;a href=\"http://twitter.com/download/iphone\" r...</td>\n",
       "      <td>PUPDATE: can't see any. Even if I could, I cou...</td>\n",
       "      <td>NaN</td>\n",
       "      <td>NaN</td>\n",
       "      <td>NaN</td>\n",
       "      <td>https://twitter.com/dog_rates/status/746906459...</td>\n",
       "      <td>0</td>\n",
       "      <td>10</td>\n",
       "      <td>None</td>\n",
       "      <td>None</td>\n",
       "      <td>None</td>\n",
       "      <td>None</td>\n",
       "      <td>None</td>\n",
       "    </tr>\n",
       "  </tbody>\n",
       "</table>\n",
       "</div>"
      ],
      "text/plain": [
       "                tweet_id  in_reply_to_status_id  in_reply_to_user_id  \\\n",
       "315   835152434251116546                    NaN                  NaN   \n",
       "1016  746906459439529985           7.468859e+17         4.196984e+09   \n",
       "\n",
       "                      timestamp  \\\n",
       "315   2017-02-24 15:40:31 +0000   \n",
       "1016  2016-06-26 03:22:31 +0000   \n",
       "\n",
       "                                                 source  \\\n",
       "315   <a href=\"http://twitter.com/download/iphone\" r...   \n",
       "1016  <a href=\"http://twitter.com/download/iphone\" r...   \n",
       "\n",
       "                                                   text  retweeted_status_id  \\\n",
       "315   When you're so blinded by your systematic plag...                  NaN   \n",
       "1016  PUPDATE: can't see any. Even if I could, I cou...                  NaN   \n",
       "\n",
       "      retweeted_status_user_id retweeted_status_timestamp  \\\n",
       "315                        NaN                        NaN   \n",
       "1016                       NaN                        NaN   \n",
       "\n",
       "                                          expanded_urls  rating_numerator  \\\n",
       "315   https://twitter.com/dog_rates/status/835152434...                 0   \n",
       "1016  https://twitter.com/dog_rates/status/746906459...                 0   \n",
       "\n",
       "      rating_denominator  name doggo floofer pupper puppo  \n",
       "315                   10  None  None    None   None  None  \n",
       "1016                  10  None  None    None   None  None  "
      ]
     },
     "execution_count": 40,
     "metadata": {},
     "output_type": "execute_result"
    }
   ],
   "source": [
    "# check ratings where numerator is 0\n",
    "twitter_archive[twitter_archive.rating_numerator == 0]"
   ]
  },
  {
   "cell_type": "code",
   "execution_count": 41,
   "id": "e5aeda5f-7396-4542-ab19-8642a315ae54",
   "metadata": {},
   "outputs": [
    {
     "name": "stdout",
     "output_type": "stream",
     "text": [
      "When you're so blinded by your systematic plagiarism that you forget what day it is. 0/10 https://t.co/YbEJPkg4Ag\n",
      "PUPDATE: can't see any. Even if I could, I couldn't reach them to pet. 0/10 much disappointment https://t.co/c7WXaB2nqX\n"
     ]
    }
   ],
   "source": [
    "# print texts to avoid truncation and check for indications as to why such a low rating\n",
    "print(twitter_archive.text[315])\n",
    "print(twitter_archive.text[1016])"
   ]
  },
  {
   "cell_type": "markdown",
   "id": "5a4aa18f-e30b-452b-a26f-3268101c2c8b",
   "metadata": {},
   "source": [
    "-\n",
    "\n",
    "\n",
    "The urls at the end of the other two text strings lead to a post about a plagiarism dispute the twitter page had, as well as a picture of New York City. These are not valid dog rating tweets. Added to cleaning list."
   ]
  },
  {
   "cell_type": "markdown",
   "id": "6e999064-7c1e-4907-a549-bdbed87b554f",
   "metadata": {},
   "source": [
    "## Checking for tweets without images\n",
    "\n",
    "As mentioned in the beginning of the assessment section, it is importand to verify that all the tweets used for analysis are original and contain images. The .head() function revealed that some of the tweets are retweets. But I have yet to check whether all the tweets contain images. \n",
    "\n",
    "When I viewed the entire expanded_url string above, I saw that the urls that have photos contain \"/photo/\". \n",
    "\n",
    "For example: "
   ]
  },
  {
   "cell_type": "code",
   "execution_count": 42,
   "id": "cb75bc08-5c67-4506-bd4b-b9d7285f7222",
   "metadata": {},
   "outputs": [
    {
     "data": {
      "text/plain": [
       "'https://twitter.com/dog_rates/status/892420643555336193/photo/1'"
      ]
     },
     "execution_count": 42,
     "metadata": {},
     "output_type": "execute_result"
    }
   ],
   "source": [
    "twitter_archive.expanded_urls[0]"
   ]
  },
  {
   "cell_type": "markdown",
   "id": "370f2fa6-6dcf-4171-9eee-1ffdced6d388",
   "metadata": {},
   "source": [
    "I need to weed out tweets whose urls don't contain \"photo\" OR \"video\" which is a possibility. Also, we saw from checking the source column that some tweets are Vines. All Vines are videos, so they should not be included in the tweets that will need to be removed. \n",
    "\n",
    "I know from the .info() function that some of the expanded_urls values are NaN. These rows will make it impossible to effectively search for the tweets with no images. I will save dropping them for the Cleaning section of the project. For now, I'll create a temporary dataframe temp_frame that excludes these rows. \n",
    "\n",
    "I will also exclude Vine posts from temp_frame."
   ]
  },
  {
   "cell_type": "code",
   "execution_count": 43,
   "id": "bffd0b25-d2a5-4348-902d-2bd5c745beca",
   "metadata": {},
   "outputs": [],
   "source": [
    "# get complicated vine source string\n",
    "vine_source = twitter_archive.source.unique()[2]\n",
    "\n",
    "# get indices for vine posts\n",
    "vines = twitter_archive[twitter_archive.source == vine_source].index\n",
    "\n",
    "#create temporary frame and drop above Vine indices and url_nans(variable created above)\n",
    "temp_frame = twitter_archive.drop(url_nans, axis = 0)\n",
    "temp_frame = temp_frame.drop(vines, axis = 0)"
   ]
  },
  {
   "cell_type": "code",
   "execution_count": 44,
   "id": "d14c1bf0-e9a5-4667-a4f7-5f5fa90554bf",
   "metadata": {},
   "outputs": [
    {
     "data": {
      "text/plain": [
       "(47, 17)"
      ]
     },
     "execution_count": 44,
     "metadata": {},
     "output_type": "execute_result"
    }
   ],
   "source": [
    "# in temp_frame, get number of rows where url contains neither photo nor video\n",
    "temp_frame[(~temp_frame.expanded_urls.str.contains('/photo/')) \n",
    "                & (~temp_frame.expanded_urls.str.contains('/video/'))].shape"
   ]
  },
  {
   "cell_type": "code",
   "execution_count": 45,
   "id": "764c4bf4-19f4-4c6e-8c27-545436d03644",
   "metadata": {},
   "outputs": [
    {
     "data": {
      "text/html": [
       "<div>\n",
       "<style scoped>\n",
       "    .dataframe tbody tr th:only-of-type {\n",
       "        vertical-align: middle;\n",
       "    }\n",
       "\n",
       "    .dataframe tbody tr th {\n",
       "        vertical-align: top;\n",
       "    }\n",
       "\n",
       "    .dataframe thead th {\n",
       "        text-align: right;\n",
       "    }\n",
       "</style>\n",
       "<table border=\"1\" class=\"dataframe\">\n",
       "  <thead>\n",
       "    <tr style=\"text-align: right;\">\n",
       "      <th></th>\n",
       "      <th>tweet_id</th>\n",
       "      <th>in_reply_to_status_id</th>\n",
       "      <th>in_reply_to_user_id</th>\n",
       "      <th>timestamp</th>\n",
       "      <th>source</th>\n",
       "      <th>text</th>\n",
       "      <th>retweeted_status_id</th>\n",
       "      <th>retweeted_status_user_id</th>\n",
       "      <th>retweeted_status_timestamp</th>\n",
       "      <th>expanded_urls</th>\n",
       "      <th>rating_numerator</th>\n",
       "      <th>rating_denominator</th>\n",
       "      <th>name</th>\n",
       "      <th>doggo</th>\n",
       "      <th>floofer</th>\n",
       "      <th>pupper</th>\n",
       "      <th>puppo</th>\n",
       "    </tr>\n",
       "  </thead>\n",
       "  <tbody>\n",
       "    <tr>\n",
       "      <th>32</th>\n",
       "      <td>886054160059072513</td>\n",
       "      <td>NaN</td>\n",
       "      <td>NaN</td>\n",
       "      <td>2017-07-15 02:45:48 +0000</td>\n",
       "      <td>&lt;a href=\"http://twitter.com/download/iphone\" r...</td>\n",
       "      <td>RT @Athletics: 12/10 #BATP https://t.co/WxwJmv...</td>\n",
       "      <td>8.860537e+17</td>\n",
       "      <td>19607400.0</td>\n",
       "      <td>2017-07-15 02:44:07 +0000</td>\n",
       "      <td>https://twitter.com/dog_rates/status/886053434...</td>\n",
       "      <td>12</td>\n",
       "      <td>10</td>\n",
       "      <td>None</td>\n",
       "      <td>None</td>\n",
       "      <td>None</td>\n",
       "      <td>None</td>\n",
       "      <td>None</td>\n",
       "    </tr>\n",
       "    <tr>\n",
       "      <th>35</th>\n",
       "      <td>885518971528720385</td>\n",
       "      <td>NaN</td>\n",
       "      <td>NaN</td>\n",
       "      <td>2017-07-13 15:19:09 +0000</td>\n",
       "      <td>&lt;a href=\"http://twitter.com/download/iphone\" r...</td>\n",
       "      <td>I have a new hero and his name is Howard. 14/1...</td>\n",
       "      <td>NaN</td>\n",
       "      <td>NaN</td>\n",
       "      <td>NaN</td>\n",
       "      <td>https://twitter.com/4bonds2carbon/status/88551...</td>\n",
       "      <td>14</td>\n",
       "      <td>10</td>\n",
       "      <td>None</td>\n",
       "      <td>None</td>\n",
       "      <td>None</td>\n",
       "      <td>None</td>\n",
       "      <td>None</td>\n",
       "    </tr>\n",
       "    <tr>\n",
       "      <th>42</th>\n",
       "      <td>884247878851493888</td>\n",
       "      <td>NaN</td>\n",
       "      <td>NaN</td>\n",
       "      <td>2017-07-10 03:08:17 +0000</td>\n",
       "      <td>&lt;a href=\"http://twitter.com/download/iphone\" r...</td>\n",
       "      <td>OMG HE DIDN'T MEAN TO HE WAS JUST TRYING A LIT...</td>\n",
       "      <td>NaN</td>\n",
       "      <td>NaN</td>\n",
       "      <td>NaN</td>\n",
       "      <td>https://twitter.com/kaijohnson_19/status/88396...</td>\n",
       "      <td>13</td>\n",
       "      <td>10</td>\n",
       "      <td>None</td>\n",
       "      <td>None</td>\n",
       "      <td>None</td>\n",
       "      <td>None</td>\n",
       "      <td>None</td>\n",
       "    </tr>\n",
       "    <tr>\n",
       "      <th>72</th>\n",
       "      <td>878604707211726852</td>\n",
       "      <td>NaN</td>\n",
       "      <td>NaN</td>\n",
       "      <td>2017-06-24 13:24:20 +0000</td>\n",
       "      <td>&lt;a href=\"http://twitter.com/download/iphone\" r...</td>\n",
       "      <td>Martha is stunning how h*ckin dare you. 13/10 ...</td>\n",
       "      <td>NaN</td>\n",
       "      <td>NaN</td>\n",
       "      <td>NaN</td>\n",
       "      <td>https://twitter.com/bbcworld/status/8785998685...</td>\n",
       "      <td>13</td>\n",
       "      <td>10</td>\n",
       "      <td>None</td>\n",
       "      <td>None</td>\n",
       "      <td>None</td>\n",
       "      <td>None</td>\n",
       "      <td>None</td>\n",
       "    </tr>\n",
       "    <tr>\n",
       "      <th>83</th>\n",
       "      <td>876537666061221889</td>\n",
       "      <td>NaN</td>\n",
       "      <td>NaN</td>\n",
       "      <td>2017-06-18 20:30:39 +0000</td>\n",
       "      <td>&lt;a href=\"http://twitter.com/download/iphone\" r...</td>\n",
       "      <td>I can say with the pupmost confidence that the...</td>\n",
       "      <td>NaN</td>\n",
       "      <td>NaN</td>\n",
       "      <td>NaN</td>\n",
       "      <td>https://twitter.com/mpstowerham/status/8761629...</td>\n",
       "      <td>14</td>\n",
       "      <td>10</td>\n",
       "      <td>None</td>\n",
       "      <td>None</td>\n",
       "      <td>None</td>\n",
       "      <td>None</td>\n",
       "      <td>None</td>\n",
       "    </tr>\n",
       "  </tbody>\n",
       "</table>\n",
       "</div>"
      ],
      "text/plain": [
       "              tweet_id  in_reply_to_status_id  in_reply_to_user_id  \\\n",
       "32  886054160059072513                    NaN                  NaN   \n",
       "35  885518971528720385                    NaN                  NaN   \n",
       "42  884247878851493888                    NaN                  NaN   \n",
       "72  878604707211726852                    NaN                  NaN   \n",
       "83  876537666061221889                    NaN                  NaN   \n",
       "\n",
       "                    timestamp  \\\n",
       "32  2017-07-15 02:45:48 +0000   \n",
       "35  2017-07-13 15:19:09 +0000   \n",
       "42  2017-07-10 03:08:17 +0000   \n",
       "72  2017-06-24 13:24:20 +0000   \n",
       "83  2017-06-18 20:30:39 +0000   \n",
       "\n",
       "                                               source  \\\n",
       "32  <a href=\"http://twitter.com/download/iphone\" r...   \n",
       "35  <a href=\"http://twitter.com/download/iphone\" r...   \n",
       "42  <a href=\"http://twitter.com/download/iphone\" r...   \n",
       "72  <a href=\"http://twitter.com/download/iphone\" r...   \n",
       "83  <a href=\"http://twitter.com/download/iphone\" r...   \n",
       "\n",
       "                                                 text  retweeted_status_id  \\\n",
       "32  RT @Athletics: 12/10 #BATP https://t.co/WxwJmv...         8.860537e+17   \n",
       "35  I have a new hero and his name is Howard. 14/1...                  NaN   \n",
       "42  OMG HE DIDN'T MEAN TO HE WAS JUST TRYING A LIT...                  NaN   \n",
       "72  Martha is stunning how h*ckin dare you. 13/10 ...                  NaN   \n",
       "83  I can say with the pupmost confidence that the...                  NaN   \n",
       "\n",
       "    retweeted_status_user_id retweeted_status_timestamp  \\\n",
       "32                19607400.0  2017-07-15 02:44:07 +0000   \n",
       "35                       NaN                        NaN   \n",
       "42                       NaN                        NaN   \n",
       "72                       NaN                        NaN   \n",
       "83                       NaN                        NaN   \n",
       "\n",
       "                                        expanded_urls  rating_numerator  \\\n",
       "32  https://twitter.com/dog_rates/status/886053434...                12   \n",
       "35  https://twitter.com/4bonds2carbon/status/88551...                14   \n",
       "42  https://twitter.com/kaijohnson_19/status/88396...                13   \n",
       "72  https://twitter.com/bbcworld/status/8785998685...                13   \n",
       "83  https://twitter.com/mpstowerham/status/8761629...                14   \n",
       "\n",
       "    rating_denominator  name doggo floofer pupper puppo  \n",
       "32                  10  None  None    None   None  None  \n",
       "35                  10  None  None    None   None  None  \n",
       "42                  10  None  None    None   None  None  \n",
       "72                  10  None  None    None   None  None  \n",
       "83                  10  None  None    None   None  None  "
      ]
     },
     "execution_count": 45,
     "metadata": {},
     "output_type": "execute_result"
    }
   ],
   "source": [
    "# view some rows where url contains neither photo nor video\n",
    "temp_frame[(~temp_frame.expanded_urls.str.contains('/photo/')) \n",
    "                & (~temp_frame.expanded_urls.str.contains('/video/'))].head()"
   ]
  },
  {
   "cell_type": "markdown",
   "id": "72640f93-8292-4eba-b49a-b27c9e70f9f3",
   "metadata": {},
   "source": [
    "-\n",
    "\n",
    "By looking at the urls in expanded_urls, I can see that some of these do not even come from the WeRateDogs page, and the one that does is a retweet. Again, I do not want to print out all the urls here, but these are representative of the rest. These rows will have to be removed. Added to cleaning list."
   ]
  },
  {
   "cell_type": "markdown",
   "id": "b43d1142-3b77-41a1-a4c7-281d44a00d28",
   "metadata": {},
   "source": [
    "## 2. Image_preds Dataframe\n",
    "### Visual Assessment"
   ]
  },
  {
   "cell_type": "code",
   "execution_count": 46,
   "id": "7a53cada-1b43-4066-8f23-be4d229208b1",
   "metadata": {},
   "outputs": [
    {
     "data": {
      "text/html": [
       "<div>\n",
       "<style scoped>\n",
       "    .dataframe tbody tr th:only-of-type {\n",
       "        vertical-align: middle;\n",
       "    }\n",
       "\n",
       "    .dataframe tbody tr th {\n",
       "        vertical-align: top;\n",
       "    }\n",
       "\n",
       "    .dataframe thead th {\n",
       "        text-align: right;\n",
       "    }\n",
       "</style>\n",
       "<table border=\"1\" class=\"dataframe\">\n",
       "  <thead>\n",
       "    <tr style=\"text-align: right;\">\n",
       "      <th></th>\n",
       "      <th>tweet_id</th>\n",
       "      <th>jpg_url</th>\n",
       "      <th>img_num</th>\n",
       "      <th>p1</th>\n",
       "      <th>p1_conf</th>\n",
       "      <th>p1_dog</th>\n",
       "      <th>p2</th>\n",
       "      <th>p2_conf</th>\n",
       "      <th>p2_dog</th>\n",
       "      <th>p3</th>\n",
       "      <th>p3_conf</th>\n",
       "      <th>p3_dog</th>\n",
       "    </tr>\n",
       "  </thead>\n",
       "  <tbody>\n",
       "    <tr>\n",
       "      <th>0</th>\n",
       "      <td>666020888022790149</td>\n",
       "      <td>https://pbs.twimg.com/media/CT4udn0WwAA0aMy.jpg</td>\n",
       "      <td>1</td>\n",
       "      <td>Welsh_springer_spaniel</td>\n",
       "      <td>0.465074</td>\n",
       "      <td>True</td>\n",
       "      <td>collie</td>\n",
       "      <td>0.156665</td>\n",
       "      <td>True</td>\n",
       "      <td>Shetland_sheepdog</td>\n",
       "      <td>0.061428</td>\n",
       "      <td>True</td>\n",
       "    </tr>\n",
       "    <tr>\n",
       "      <th>1</th>\n",
       "      <td>666029285002620928</td>\n",
       "      <td>https://pbs.twimg.com/media/CT42GRgUYAA5iDo.jpg</td>\n",
       "      <td>1</td>\n",
       "      <td>redbone</td>\n",
       "      <td>0.506826</td>\n",
       "      <td>True</td>\n",
       "      <td>miniature_pinscher</td>\n",
       "      <td>0.074192</td>\n",
       "      <td>True</td>\n",
       "      <td>Rhodesian_ridgeback</td>\n",
       "      <td>0.072010</td>\n",
       "      <td>True</td>\n",
       "    </tr>\n",
       "    <tr>\n",
       "      <th>2</th>\n",
       "      <td>666033412701032449</td>\n",
       "      <td>https://pbs.twimg.com/media/CT4521TWwAEvMyu.jpg</td>\n",
       "      <td>1</td>\n",
       "      <td>German_shepherd</td>\n",
       "      <td>0.596461</td>\n",
       "      <td>True</td>\n",
       "      <td>malinois</td>\n",
       "      <td>0.138584</td>\n",
       "      <td>True</td>\n",
       "      <td>bloodhound</td>\n",
       "      <td>0.116197</td>\n",
       "      <td>True</td>\n",
       "    </tr>\n",
       "    <tr>\n",
       "      <th>3</th>\n",
       "      <td>666044226329800704</td>\n",
       "      <td>https://pbs.twimg.com/media/CT5Dr8HUEAA-lEu.jpg</td>\n",
       "      <td>1</td>\n",
       "      <td>Rhodesian_ridgeback</td>\n",
       "      <td>0.408143</td>\n",
       "      <td>True</td>\n",
       "      <td>redbone</td>\n",
       "      <td>0.360687</td>\n",
       "      <td>True</td>\n",
       "      <td>miniature_pinscher</td>\n",
       "      <td>0.222752</td>\n",
       "      <td>True</td>\n",
       "    </tr>\n",
       "    <tr>\n",
       "      <th>4</th>\n",
       "      <td>666049248165822465</td>\n",
       "      <td>https://pbs.twimg.com/media/CT5IQmsXIAAKY4A.jpg</td>\n",
       "      <td>1</td>\n",
       "      <td>miniature_pinscher</td>\n",
       "      <td>0.560311</td>\n",
       "      <td>True</td>\n",
       "      <td>Rottweiler</td>\n",
       "      <td>0.243682</td>\n",
       "      <td>True</td>\n",
       "      <td>Doberman</td>\n",
       "      <td>0.154629</td>\n",
       "      <td>True</td>\n",
       "    </tr>\n",
       "  </tbody>\n",
       "</table>\n",
       "</div>"
      ],
      "text/plain": [
       "             tweet_id                                          jpg_url  \\\n",
       "0  666020888022790149  https://pbs.twimg.com/media/CT4udn0WwAA0aMy.jpg   \n",
       "1  666029285002620928  https://pbs.twimg.com/media/CT42GRgUYAA5iDo.jpg   \n",
       "2  666033412701032449  https://pbs.twimg.com/media/CT4521TWwAEvMyu.jpg   \n",
       "3  666044226329800704  https://pbs.twimg.com/media/CT5Dr8HUEAA-lEu.jpg   \n",
       "4  666049248165822465  https://pbs.twimg.com/media/CT5IQmsXIAAKY4A.jpg   \n",
       "\n",
       "   img_num                      p1   p1_conf  p1_dog                  p2  \\\n",
       "0        1  Welsh_springer_spaniel  0.465074    True              collie   \n",
       "1        1                 redbone  0.506826    True  miniature_pinscher   \n",
       "2        1         German_shepherd  0.596461    True            malinois   \n",
       "3        1     Rhodesian_ridgeback  0.408143    True             redbone   \n",
       "4        1      miniature_pinscher  0.560311    True          Rottweiler   \n",
       "\n",
       "    p2_conf  p2_dog                   p3   p3_conf  p3_dog  \n",
       "0  0.156665    True    Shetland_sheepdog  0.061428    True  \n",
       "1  0.074192    True  Rhodesian_ridgeback  0.072010    True  \n",
       "2  0.138584    True           bloodhound  0.116197    True  \n",
       "3  0.360687    True   miniature_pinscher  0.222752    True  \n",
       "4  0.243682    True             Doberman  0.154629    True  "
      ]
     },
     "execution_count": 46,
     "metadata": {},
     "output_type": "execute_result"
    }
   ],
   "source": [
    "# asses with.head()\n",
    "image_preds.head()"
   ]
  },
  {
   "cell_type": "code",
   "execution_count": 47,
   "id": "6a850c9a-be09-49fa-8c0d-325c5e8ea0dc",
   "metadata": {},
   "outputs": [
    {
     "data": {
      "text/html": [
       "<div>\n",
       "<style scoped>\n",
       "    .dataframe tbody tr th:only-of-type {\n",
       "        vertical-align: middle;\n",
       "    }\n",
       "\n",
       "    .dataframe tbody tr th {\n",
       "        vertical-align: top;\n",
       "    }\n",
       "\n",
       "    .dataframe thead th {\n",
       "        text-align: right;\n",
       "    }\n",
       "</style>\n",
       "<table border=\"1\" class=\"dataframe\">\n",
       "  <thead>\n",
       "    <tr style=\"text-align: right;\">\n",
       "      <th></th>\n",
       "      <th>tweet_id</th>\n",
       "      <th>jpg_url</th>\n",
       "      <th>img_num</th>\n",
       "      <th>p1</th>\n",
       "      <th>p1_conf</th>\n",
       "      <th>p1_dog</th>\n",
       "      <th>p2</th>\n",
       "      <th>p2_conf</th>\n",
       "      <th>p2_dog</th>\n",
       "      <th>p3</th>\n",
       "      <th>p3_conf</th>\n",
       "      <th>p3_dog</th>\n",
       "    </tr>\n",
       "  </thead>\n",
       "  <tbody>\n",
       "    <tr>\n",
       "      <th>2070</th>\n",
       "      <td>891327558926688256</td>\n",
       "      <td>https://pbs.twimg.com/media/DF6hr6BUMAAzZgT.jpg</td>\n",
       "      <td>2</td>\n",
       "      <td>basset</td>\n",
       "      <td>0.555712</td>\n",
       "      <td>True</td>\n",
       "      <td>English_springer</td>\n",
       "      <td>0.225770</td>\n",
       "      <td>True</td>\n",
       "      <td>German_short-haired_pointer</td>\n",
       "      <td>0.175219</td>\n",
       "      <td>True</td>\n",
       "    </tr>\n",
       "    <tr>\n",
       "      <th>2071</th>\n",
       "      <td>891689557279858688</td>\n",
       "      <td>https://pbs.twimg.com/media/DF_q7IAWsAEuuN8.jpg</td>\n",
       "      <td>1</td>\n",
       "      <td>paper_towel</td>\n",
       "      <td>0.170278</td>\n",
       "      <td>False</td>\n",
       "      <td>Labrador_retriever</td>\n",
       "      <td>0.168086</td>\n",
       "      <td>True</td>\n",
       "      <td>spatula</td>\n",
       "      <td>0.040836</td>\n",
       "      <td>False</td>\n",
       "    </tr>\n",
       "    <tr>\n",
       "      <th>2072</th>\n",
       "      <td>891815181378084864</td>\n",
       "      <td>https://pbs.twimg.com/media/DGBdLU1WsAANxJ9.jpg</td>\n",
       "      <td>1</td>\n",
       "      <td>Chihuahua</td>\n",
       "      <td>0.716012</td>\n",
       "      <td>True</td>\n",
       "      <td>malamute</td>\n",
       "      <td>0.078253</td>\n",
       "      <td>True</td>\n",
       "      <td>kelpie</td>\n",
       "      <td>0.031379</td>\n",
       "      <td>True</td>\n",
       "    </tr>\n",
       "    <tr>\n",
       "      <th>2073</th>\n",
       "      <td>892177421306343426</td>\n",
       "      <td>https://pbs.twimg.com/media/DGGmoV4XsAAUL6n.jpg</td>\n",
       "      <td>1</td>\n",
       "      <td>Chihuahua</td>\n",
       "      <td>0.323581</td>\n",
       "      <td>True</td>\n",
       "      <td>Pekinese</td>\n",
       "      <td>0.090647</td>\n",
       "      <td>True</td>\n",
       "      <td>papillon</td>\n",
       "      <td>0.068957</td>\n",
       "      <td>True</td>\n",
       "    </tr>\n",
       "    <tr>\n",
       "      <th>2074</th>\n",
       "      <td>892420643555336193</td>\n",
       "      <td>https://pbs.twimg.com/media/DGKD1-bXoAAIAUK.jpg</td>\n",
       "      <td>1</td>\n",
       "      <td>orange</td>\n",
       "      <td>0.097049</td>\n",
       "      <td>False</td>\n",
       "      <td>bagel</td>\n",
       "      <td>0.085851</td>\n",
       "      <td>False</td>\n",
       "      <td>banana</td>\n",
       "      <td>0.076110</td>\n",
       "      <td>False</td>\n",
       "    </tr>\n",
       "  </tbody>\n",
       "</table>\n",
       "</div>"
      ],
      "text/plain": [
       "                tweet_id                                          jpg_url  \\\n",
       "2070  891327558926688256  https://pbs.twimg.com/media/DF6hr6BUMAAzZgT.jpg   \n",
       "2071  891689557279858688  https://pbs.twimg.com/media/DF_q7IAWsAEuuN8.jpg   \n",
       "2072  891815181378084864  https://pbs.twimg.com/media/DGBdLU1WsAANxJ9.jpg   \n",
       "2073  892177421306343426  https://pbs.twimg.com/media/DGGmoV4XsAAUL6n.jpg   \n",
       "2074  892420643555336193  https://pbs.twimg.com/media/DGKD1-bXoAAIAUK.jpg   \n",
       "\n",
       "      img_num           p1   p1_conf  p1_dog                  p2   p2_conf  \\\n",
       "2070        2       basset  0.555712    True    English_springer  0.225770   \n",
       "2071        1  paper_towel  0.170278   False  Labrador_retriever  0.168086   \n",
       "2072        1    Chihuahua  0.716012    True            malamute  0.078253   \n",
       "2073        1    Chihuahua  0.323581    True            Pekinese  0.090647   \n",
       "2074        1       orange  0.097049   False               bagel  0.085851   \n",
       "\n",
       "      p2_dog                           p3   p3_conf  p3_dog  \n",
       "2070    True  German_short-haired_pointer  0.175219    True  \n",
       "2071    True                      spatula  0.040836   False  \n",
       "2072    True                       kelpie  0.031379    True  \n",
       "2073    True                     papillon  0.068957    True  \n",
       "2074   False                       banana  0.076110   False  "
      ]
     },
     "execution_count": 47,
     "metadata": {},
     "output_type": "execute_result"
    }
   ],
   "source": [
    "# with.tail()\n",
    "image_preds.tail()"
   ]
  },
  {
   "cell_type": "markdown",
   "id": "0afe64ad-cb95-4206-b93e-866e14352a56",
   "metadata": {},
   "source": [
    "From the above I only see one issue:\n",
    "* Names of dog breeds associated with countries,regions, etc. are capitalized, e.g. \"Labrador_retriever.\" Difficult to know when to capitalize and when not to when querying. Added to cleaning list.\n",
    "\n",
    "Some of the predictions are not dogs, like \"paper_towel\". This is normal. If the neural network can't match the image with a dog breed, it will attempt to match with another object. "
   ]
  },
  {
   "cell_type": "markdown",
   "id": "3cff55a0-0df0-407a-806e-f413ace06664",
   "metadata": {},
   "source": [
    "### Programmatic Assessment"
   ]
  },
  {
   "cell_type": "code",
   "execution_count": 48,
   "id": "68bbfeb1-91e3-48b9-83f5-26cd7f08e175",
   "metadata": {},
   "outputs": [
    {
     "name": "stdout",
     "output_type": "stream",
     "text": [
      "<class 'pandas.core.frame.DataFrame'>\n",
      "RangeIndex: 2075 entries, 0 to 2074\n",
      "Data columns (total 12 columns):\n",
      " #   Column    Non-Null Count  Dtype  \n",
      "---  ------    --------------  -----  \n",
      " 0   tweet_id  2075 non-null   int64  \n",
      " 1   jpg_url   2075 non-null   object \n",
      " 2   img_num   2075 non-null   int64  \n",
      " 3   p1        2075 non-null   object \n",
      " 4   p1_conf   2075 non-null   float64\n",
      " 5   p1_dog    2075 non-null   bool   \n",
      " 6   p2        2075 non-null   object \n",
      " 7   p2_conf   2075 non-null   float64\n",
      " 8   p2_dog    2075 non-null   bool   \n",
      " 9   p3        2075 non-null   object \n",
      " 10  p3_conf   2075 non-null   float64\n",
      " 11  p3_dog    2075 non-null   bool   \n",
      "dtypes: bool(3), float64(3), int64(2), object(4)\n",
      "memory usage: 152.1+ KB\n"
     ]
    }
   ],
   "source": [
    "image_preds.info()"
   ]
  },
  {
   "cell_type": "code",
   "execution_count": 49,
   "id": "a5ead224-b290-45ce-bfdc-a1d848ce1f92",
   "metadata": {},
   "outputs": [
    {
     "data": {
      "text/html": [
       "<div>\n",
       "<style scoped>\n",
       "    .dataframe tbody tr th:only-of-type {\n",
       "        vertical-align: middle;\n",
       "    }\n",
       "\n",
       "    .dataframe tbody tr th {\n",
       "        vertical-align: top;\n",
       "    }\n",
       "\n",
       "    .dataframe thead th {\n",
       "        text-align: right;\n",
       "    }\n",
       "</style>\n",
       "<table border=\"1\" class=\"dataframe\">\n",
       "  <thead>\n",
       "    <tr style=\"text-align: right;\">\n",
       "      <th></th>\n",
       "      <th>tweet_id</th>\n",
       "      <th>img_num</th>\n",
       "      <th>p1_conf</th>\n",
       "      <th>p2_conf</th>\n",
       "      <th>p3_conf</th>\n",
       "    </tr>\n",
       "  </thead>\n",
       "  <tbody>\n",
       "    <tr>\n",
       "      <th>count</th>\n",
       "      <td>2.075000e+03</td>\n",
       "      <td>2075.000000</td>\n",
       "      <td>2075.000000</td>\n",
       "      <td>2.075000e+03</td>\n",
       "      <td>2.075000e+03</td>\n",
       "    </tr>\n",
       "    <tr>\n",
       "      <th>mean</th>\n",
       "      <td>7.384514e+17</td>\n",
       "      <td>1.203855</td>\n",
       "      <td>0.594548</td>\n",
       "      <td>1.345886e-01</td>\n",
       "      <td>6.032417e-02</td>\n",
       "    </tr>\n",
       "    <tr>\n",
       "      <th>std</th>\n",
       "      <td>6.785203e+16</td>\n",
       "      <td>0.561875</td>\n",
       "      <td>0.271174</td>\n",
       "      <td>1.006657e-01</td>\n",
       "      <td>5.090593e-02</td>\n",
       "    </tr>\n",
       "    <tr>\n",
       "      <th>min</th>\n",
       "      <td>6.660209e+17</td>\n",
       "      <td>1.000000</td>\n",
       "      <td>0.044333</td>\n",
       "      <td>1.011300e-08</td>\n",
       "      <td>1.740170e-10</td>\n",
       "    </tr>\n",
       "    <tr>\n",
       "      <th>25%</th>\n",
       "      <td>6.764835e+17</td>\n",
       "      <td>1.000000</td>\n",
       "      <td>0.364412</td>\n",
       "      <td>5.388625e-02</td>\n",
       "      <td>1.622240e-02</td>\n",
       "    </tr>\n",
       "    <tr>\n",
       "      <th>50%</th>\n",
       "      <td>7.119988e+17</td>\n",
       "      <td>1.000000</td>\n",
       "      <td>0.588230</td>\n",
       "      <td>1.181810e-01</td>\n",
       "      <td>4.944380e-02</td>\n",
       "    </tr>\n",
       "    <tr>\n",
       "      <th>75%</th>\n",
       "      <td>7.932034e+17</td>\n",
       "      <td>1.000000</td>\n",
       "      <td>0.843855</td>\n",
       "      <td>1.955655e-01</td>\n",
       "      <td>9.180755e-02</td>\n",
       "    </tr>\n",
       "    <tr>\n",
       "      <th>max</th>\n",
       "      <td>8.924206e+17</td>\n",
       "      <td>4.000000</td>\n",
       "      <td>1.000000</td>\n",
       "      <td>4.880140e-01</td>\n",
       "      <td>2.734190e-01</td>\n",
       "    </tr>\n",
       "  </tbody>\n",
       "</table>\n",
       "</div>"
      ],
      "text/plain": [
       "           tweet_id      img_num      p1_conf       p2_conf       p3_conf\n",
       "count  2.075000e+03  2075.000000  2075.000000  2.075000e+03  2.075000e+03\n",
       "mean   7.384514e+17     1.203855     0.594548  1.345886e-01  6.032417e-02\n",
       "std    6.785203e+16     0.561875     0.271174  1.006657e-01  5.090593e-02\n",
       "min    6.660209e+17     1.000000     0.044333  1.011300e-08  1.740170e-10\n",
       "25%    6.764835e+17     1.000000     0.364412  5.388625e-02  1.622240e-02\n",
       "50%    7.119988e+17     1.000000     0.588230  1.181810e-01  4.944380e-02\n",
       "75%    7.932034e+17     1.000000     0.843855  1.955655e-01  9.180755e-02\n",
       "max    8.924206e+17     4.000000     1.000000  4.880140e-01  2.734190e-01"
      ]
     },
     "execution_count": 49,
     "metadata": {},
     "output_type": "execute_result"
    }
   ],
   "source": [
    "image_preds.describe()"
   ]
  },
  {
   "cell_type": "markdown",
   "id": "cb7b7616-6dcd-4e9f-a5ce-4508eff5fc51",
   "metadata": {},
   "source": [
    "-\n",
    "\n",
    "From the above two functions, the image_preds dataframe seems very clean. "
   ]
  },
  {
   "cell_type": "markdown",
   "id": "6186a087-ff43-44a3-b88c-ba3cf4f91f6c",
   "metadata": {},
   "source": [
    "## 3. API DataFrame\n",
    "### Visual Assessment"
   ]
  },
  {
   "cell_type": "code",
   "execution_count": 50,
   "id": "25c0bdad-39b1-4884-833d-761d54acbab2",
   "metadata": {},
   "outputs": [
    {
     "data": {
      "text/html": [
       "<div>\n",
       "<style scoped>\n",
       "    .dataframe tbody tr th:only-of-type {\n",
       "        vertical-align: middle;\n",
       "    }\n",
       "\n",
       "    .dataframe tbody tr th {\n",
       "        vertical-align: top;\n",
       "    }\n",
       "\n",
       "    .dataframe thead th {\n",
       "        text-align: right;\n",
       "    }\n",
       "</style>\n",
       "<table border=\"1\" class=\"dataframe\">\n",
       "  <thead>\n",
       "    <tr style=\"text-align: right;\">\n",
       "      <th></th>\n",
       "      <th>retweet_count</th>\n",
       "      <th>reply_count</th>\n",
       "      <th>like_count</th>\n",
       "      <th>quote_count</th>\n",
       "      <th>id</th>\n",
       "    </tr>\n",
       "  </thead>\n",
       "  <tbody>\n",
       "    <tr>\n",
       "      <th>0</th>\n",
       "      <td>7104</td>\n",
       "      <td>145</td>\n",
       "      <td>34218</td>\n",
       "      <td>219</td>\n",
       "      <td>892420643555336193</td>\n",
       "    </tr>\n",
       "    <tr>\n",
       "      <th>1</th>\n",
       "      <td>5350</td>\n",
       "      <td>172</td>\n",
       "      <td>29672</td>\n",
       "      <td>274</td>\n",
       "      <td>892177421306343426</td>\n",
       "    </tr>\n",
       "    <tr>\n",
       "      <th>2</th>\n",
       "      <td>3521</td>\n",
       "      <td>110</td>\n",
       "      <td>22345</td>\n",
       "      <td>145</td>\n",
       "      <td>891815181378084864</td>\n",
       "    </tr>\n",
       "    <tr>\n",
       "      <th>3</th>\n",
       "      <td>7303</td>\n",
       "      <td>143</td>\n",
       "      <td>37395</td>\n",
       "      <td>286</td>\n",
       "      <td>891689557279858688</td>\n",
       "    </tr>\n",
       "    <tr>\n",
       "      <th>4</th>\n",
       "      <td>7850</td>\n",
       "      <td>194</td>\n",
       "      <td>35738</td>\n",
       "      <td>296</td>\n",
       "      <td>891327558926688256</td>\n",
       "    </tr>\n",
       "  </tbody>\n",
       "</table>\n",
       "</div>"
      ],
      "text/plain": [
       "  retweet_count reply_count like_count quote_count                  id\n",
       "0          7104         145      34218         219  892420643555336193\n",
       "1          5350         172      29672         274  892177421306343426\n",
       "2          3521         110      22345         145  891815181378084864\n",
       "3          7303         143      37395         286  891689557279858688\n",
       "4          7850         194      35738         296  891327558926688256"
      ]
     },
     "execution_count": 50,
     "metadata": {},
     "output_type": "execute_result"
    }
   ],
   "source": [
    "api_data.head()"
   ]
  },
  {
   "cell_type": "code",
   "execution_count": 51,
   "id": "3e624b68-56ac-416f-9743-ec0c63ed6ef7",
   "metadata": {},
   "outputs": [
    {
     "data": {
      "text/html": [
       "<div>\n",
       "<style scoped>\n",
       "    .dataframe tbody tr th:only-of-type {\n",
       "        vertical-align: middle;\n",
       "    }\n",
       "\n",
       "    .dataframe tbody tr th {\n",
       "        vertical-align: top;\n",
       "    }\n",
       "\n",
       "    .dataframe thead th {\n",
       "        text-align: right;\n",
       "    }\n",
       "</style>\n",
       "<table border=\"1\" class=\"dataframe\">\n",
       "  <thead>\n",
       "    <tr style=\"text-align: right;\">\n",
       "      <th></th>\n",
       "      <th>retweet_count</th>\n",
       "      <th>reply_count</th>\n",
       "      <th>like_count</th>\n",
       "      <th>quote_count</th>\n",
       "      <th>id</th>\n",
       "    </tr>\n",
       "  </thead>\n",
       "  <tbody>\n",
       "    <tr>\n",
       "      <th>2322</th>\n",
       "      <td>37</td>\n",
       "      <td>9</td>\n",
       "      <td>91</td>\n",
       "      <td>0</td>\n",
       "      <td>666049248165822465</td>\n",
       "    </tr>\n",
       "    <tr>\n",
       "      <th>2323</th>\n",
       "      <td>117</td>\n",
       "      <td>1</td>\n",
       "      <td>251</td>\n",
       "      <td>2</td>\n",
       "      <td>666044226329800704</td>\n",
       "    </tr>\n",
       "    <tr>\n",
       "      <th>2324</th>\n",
       "      <td>36</td>\n",
       "      <td>1</td>\n",
       "      <td>101</td>\n",
       "      <td>0</td>\n",
       "      <td>666033412701032449</td>\n",
       "    </tr>\n",
       "    <tr>\n",
       "      <th>2325</th>\n",
       "      <td>39</td>\n",
       "      <td>0</td>\n",
       "      <td>115</td>\n",
       "      <td>0</td>\n",
       "      <td>666029285002620928</td>\n",
       "    </tr>\n",
       "    <tr>\n",
       "      <th>2326</th>\n",
       "      <td>427</td>\n",
       "      <td>21</td>\n",
       "      <td>2305</td>\n",
       "      <td>30</td>\n",
       "      <td>666020888022790149</td>\n",
       "    </tr>\n",
       "  </tbody>\n",
       "</table>\n",
       "</div>"
      ],
      "text/plain": [
       "     retweet_count reply_count like_count quote_count                  id\n",
       "2322            37           9         91           0  666049248165822465\n",
       "2323           117           1        251           2  666044226329800704\n",
       "2324            36           1        101           0  666033412701032449\n",
       "2325            39           0        115           0  666029285002620928\n",
       "2326           427          21       2305          30  666020888022790149"
      ]
     },
     "execution_count": 51,
     "metadata": {},
     "output_type": "execute_result"
    }
   ],
   "source": [
    "api_data.tail()"
   ]
  },
  {
   "cell_type": "markdown",
   "id": "6ea0ca4b-48be-4d63-bd40-cac3657e53ea",
   "metadata": {},
   "source": [
    "-\n",
    "\n",
    "The above functions reveal no problems to be cleaned in the api_data dataframe. \n",
    "\n",
    "### Programmatic Assessment"
   ]
  },
  {
   "cell_type": "code",
   "execution_count": 52,
   "id": "8eb7ff7d-ac91-4c8f-9e2e-f5cd5b75133f",
   "metadata": {},
   "outputs": [
    {
     "name": "stdout",
     "output_type": "stream",
     "text": [
      "<class 'pandas.core.frame.DataFrame'>\n",
      "RangeIndex: 2327 entries, 0 to 2326\n",
      "Data columns (total 5 columns):\n",
      " #   Column         Non-Null Count  Dtype \n",
      "---  ------         --------------  ----- \n",
      " 0   retweet_count  2327 non-null   object\n",
      " 1   reply_count    2327 non-null   object\n",
      " 2   like_count     2327 non-null   object\n",
      " 3   quote_count    2327 non-null   object\n",
      " 4   id             2327 non-null   object\n",
      "dtypes: object(5)\n",
      "memory usage: 91.0+ KB\n"
     ]
    }
   ],
   "source": [
    "api_data.info()"
   ]
  },
  {
   "cell_type": "markdown",
   "id": "3403c161-ccde-411a-b409-78f18b52ea83",
   "metadata": {},
   "source": [
    "The .info function reveals a significant problem with this data frame. \n",
    "* All columns have data type 'object'\n",
    "\n",
    "In order to perform any quantitative analysis of the different counts, these columns will need to be changed to integer type. It also means that for the moment, using .describe() for further assessment is impossible, as it only deals with quantitative variables. Added to cleaning list.\n",
    "\n",
    "There are no null values. However, there are 2327 entries here, and in the twitter_archive dataframe there are 2356. This is due to some of the tweets having been deleted. I have no way of accessing the API data for those deleted tweets, so this problem is just going to be left alone. "
   ]
  },
  {
   "cell_type": "markdown",
   "id": "1cfd399f-841d-4b7f-a47f-6d878bfc0940",
   "metadata": {
    "tags": []
   },
   "source": [
    "# Final Cleaning List\n",
    "\n",
    "## Quality issues:\n",
    "### * Twitter Archive Data\n",
    "* Source column values could be shortened for readability \n",
    "* Incorrect ratings due to bad regex extraction, and some ratings possibly have denominator that is not 10\n",
    "* Rating denominator is extraneous\n",
    "* Some of the rows are retweets\n",
    "* Some of the rows are not dog image posts\n",
    "* Some dog names are \"a\" - should be \"None\"\n",
    "* rows 315 and 1016 are not dog rating tweets\n",
    "\n",
    "### * Image Predictions Data\n",
    "* Names of dog breeds associated with countries,regions, etc. are capitalized, e.g. \"Labrador_retriever.\" Difficult to know when to capitalize and when not to\n",
    "\n",
    "### * Twitter API Data\n",
    "* incorrect datatype for all columns - should be int or float"
   ]
  },
  {
   "cell_type": "markdown",
   "id": "873c32e6-090e-4733-976e-706c1240d032",
   "metadata": {},
   "source": [
    "## Tidiness Issues:\n",
    "### * Twitter Archive Data:\n",
    "* Rating divided into numerator and denominator columns (vis)\n",
    "* Each dog stage (\"doggo\", \"pupper\", etc.) has its own column (vis)\n",
    "* Text column contains not only text, but also a link to the tweet"
   ]
  },
  {
   "cell_type": "markdown",
   "id": "14f102bf-d746-4a9e-866f-72fbf64b699f",
   "metadata": {},
   "source": [
    "# Data Cleaning\n",
    "\n",
    "As in the assessment phase, I am going to go DataFrame by Dataframe to clean the issues listed in the final cleaning list.\n",
    "Cleaning is organized into the following steps:\n",
    "1. Make copies of each DataFrame to preserve the originals\n",
    "\n",
    "2. Deal with rows that need to be removed first\n",
    "\n",
    "3. Deal with tidiness or organizational issues\n",
    "\n",
    "4. Take care of other cleaning issues\n",
    "\n",
    "5. Join the DataFrames into a master DataFrame\n",
    "\n",
    "Lastly, if after any cleaning, columns need to be deleted or indexes updated, I will do that before proceeding to the next cleaning problem.\n",
    "\n",
    "For each issue, I will:\n",
    "* Define my cleaning approach\n",
    "\n",
    "* Write code to rectify the issue\n",
    "\n",
    "* Test to ensure that the code worked as planned. \n",
    "\n"
   ]
  },
  {
   "cell_type": "code",
   "execution_count": 53,
   "id": "48926170-26f1-486e-a4a0-a2750619b5f8",
   "metadata": {},
   "outputs": [],
   "source": [
    "# Make copies of each DataFrame\n",
    "twitter_archive_copy = twitter_archive.copy()\n",
    "image_preds_copy = image_preds.copy()\n",
    "api_data_copy = api_data.copy()"
   ]
  },
  {
   "cell_type": "markdown",
   "id": "7107515a-d05b-4c39-acb4-3094c43f8300",
   "metadata": {},
   "source": [
    "## DROP: rows 315 and 1016\n",
    "I will first remove these rows, as we saw before that they are not valid dog rating posts. I'm going to wait until I've dropped all problematic rows to reset the indexes, however. "
   ]
  },
  {
   "cell_type": "code",
   "execution_count": 54,
   "id": "3b1dfa42-5903-4044-aabf-a68767910e77",
   "metadata": {},
   "outputs": [],
   "source": [
    "twitter_archive_copy.drop([315,1016], axis = 0, inplace = True)"
   ]
  },
  {
   "cell_type": "code",
   "execution_count": 55,
   "id": "b37d7e45-ec1b-4938-bee3-f9f5d73ede0b",
   "metadata": {},
   "outputs": [],
   "source": [
    "# test for row 315\n",
    "assert 315 not in twitter_archive_copy.index"
   ]
  },
  {
   "cell_type": "code",
   "execution_count": 56,
   "id": "7c66a7ea-13b6-4c9e-8ebf-f09dfc29a616",
   "metadata": {},
   "outputs": [],
   "source": [
    "# test for row 1016\n",
    "assert 1016 not in twitter_archive_copy.index"
   ]
  },
  {
   "cell_type": "markdown",
   "id": "9b77dfd2-73b9-46fc-b051-e1607bf4e621",
   "metadata": {},
   "source": [
    "## DROP: rows with no url\n",
    "\n",
    "Now I'll drop the rows with no url. I will use the indexes for these rows, which are stored in the variable url_nans, created during the assessment section."
   ]
  },
  {
   "cell_type": "code",
   "execution_count": 57,
   "id": "05d7c887-c322-4a31-965c-bf24944e91a1",
   "metadata": {},
   "outputs": [],
   "source": [
    "twitter_archive_copy.drop(url_nans, axis = 0, inplace = True)"
   ]
  },
  {
   "cell_type": "code",
   "execution_count": 58,
   "id": "de47f52d-c5e7-47f4-af02-3e7e9b6ebf8d",
   "metadata": {},
   "outputs": [
    {
     "data": {
      "text/plain": [
       "False"
      ]
     },
     "execution_count": 58,
     "metadata": {},
     "output_type": "execute_result"
    }
   ],
   "source": [
    "# test that all rows have url\n",
    "twitter_archive_copy.expanded_urls.isnull().any()"
   ]
  },
  {
   "cell_type": "markdown",
   "id": "697087c4-63bc-4f01-a905-4b79d5ea3b11",
   "metadata": {},
   "source": [
    "## DROP: rows with tweets that do not contain image or video\n",
    "\n",
    "To drop rows that do not have images or video, I will get the index of all of these rows but exclude rows that are vines. Then drop based on these indexes. "
   ]
  },
  {
   "cell_type": "code",
   "execution_count": 59,
   "id": "69cfda83-4034-471c-9863-ddd9dc7e8f44",
   "metadata": {},
   "outputs": [],
   "source": [
    "# get index of rows were urls don't contains photos or videos and are not vines\n",
    "no_image_inx = twitter_archive_copy[(~twitter_archive_copy.expanded_urls.str.contains('/photo/')) &\n",
    "                            (~twitter_archive_copy.expanded_urls.str.contains('/video/')) &\n",
    "                            (twitter_archive_copy.source != vine_source)].index\n",
    "\n",
    "# and drop rows\n",
    "twitter_archive_copy.drop(no_image_inx, axis = 0, inplace = True)\n"
   ]
  },
  {
   "cell_type": "code",
   "execution_count": 60,
   "id": "c48eccc5-963a-4245-a0f1-b50d00ba6c97",
   "metadata": {},
   "outputs": [],
   "source": [
    "# test that rows were dropped\n",
    "assert (~ no_image_inx.isin(twitter_archive_copy.index).any())"
   ]
  },
  {
   "cell_type": "markdown",
   "id": "c94c59b6-3f34-42e9-a4d9-286b0231d1ce",
   "metadata": {},
   "source": [
    "## DROP: retweets\n",
    "To drop retweets, I will fetch the indexes of rows were retweeted_status_id is not NaN, which means that the row is a retweet. Then drop with these indexes. "
   ]
  },
  {
   "cell_type": "code",
   "execution_count": 61,
   "id": "3398cf1f-f287-446a-b556-ce152807a59b",
   "metadata": {},
   "outputs": [],
   "source": [
    "# get index of rows that are retweets and drop\n",
    "retweet_inx = twitter_archive_copy[twitter_archive_copy.retweeted_status_id.isnull() == False].index\n",
    "twitter_archive_copy.drop(retweet_inx, axis = 0, inplace = True)"
   ]
  },
  {
   "cell_type": "code",
   "execution_count": 62,
   "id": "c655f488-2108-4e4b-bacd-92461baf8751",
   "metadata": {},
   "outputs": [
    {
     "data": {
      "text/html": [
       "<div>\n",
       "<style scoped>\n",
       "    .dataframe tbody tr th:only-of-type {\n",
       "        vertical-align: middle;\n",
       "    }\n",
       "\n",
       "    .dataframe tbody tr th {\n",
       "        vertical-align: top;\n",
       "    }\n",
       "\n",
       "    .dataframe thead th {\n",
       "        text-align: right;\n",
       "    }\n",
       "</style>\n",
       "<table border=\"1\" class=\"dataframe\">\n",
       "  <thead>\n",
       "    <tr style=\"text-align: right;\">\n",
       "      <th></th>\n",
       "      <th>tweet_id</th>\n",
       "      <th>in_reply_to_status_id</th>\n",
       "      <th>in_reply_to_user_id</th>\n",
       "      <th>timestamp</th>\n",
       "      <th>source</th>\n",
       "      <th>text</th>\n",
       "      <th>retweeted_status_id</th>\n",
       "      <th>retweeted_status_user_id</th>\n",
       "      <th>retweeted_status_timestamp</th>\n",
       "      <th>expanded_urls</th>\n",
       "      <th>rating_numerator</th>\n",
       "      <th>rating_denominator</th>\n",
       "      <th>name</th>\n",
       "      <th>doggo</th>\n",
       "      <th>floofer</th>\n",
       "      <th>pupper</th>\n",
       "      <th>puppo</th>\n",
       "    </tr>\n",
       "  </thead>\n",
       "  <tbody>\n",
       "  </tbody>\n",
       "</table>\n",
       "</div>"
      ],
      "text/plain": [
       "Empty DataFrame\n",
       "Columns: [tweet_id, in_reply_to_status_id, in_reply_to_user_id, timestamp, source, text, retweeted_status_id, retweeted_status_user_id, retweeted_status_timestamp, expanded_urls, rating_numerator, rating_denominator, name, doggo, floofer, pupper, puppo]\n",
       "Index: []"
      ]
     },
     "execution_count": 62,
     "metadata": {},
     "output_type": "execute_result"
    }
   ],
   "source": [
    "# test to see that retweets were removed. Should return empty DataFrame\n",
    "twitter_archive_copy[twitter_archive_copy.retweeted_status_id.isnull() == False]\n"
   ]
  },
  {
   "cell_type": "markdown",
   "id": "e9caf9e2-eefa-4723-a2a3-c6e440460ee7",
   "metadata": {},
   "source": [
    "Now that we have dropped all the rows mentioned in the Final Cleaning List, I will reset the index and drop the retweet columns, as they are no longer necessary."
   ]
  },
  {
   "cell_type": "code",
   "execution_count": 63,
   "id": "d7781b1c-ba86-402f-acde-b481c6b7f097",
   "metadata": {},
   "outputs": [],
   "source": [
    "# reset index\n",
    "twitter_archive_copy.reset_index(drop = True,inplace = True)\n",
    "\n",
    "# drop retweet cfolumns\n",
    "twitter_archive_copy.drop(columns = {'retweeted_status_id', 'retweeted_status_user_id', 'retweeted_status_timestamp'},\n",
    "                  inplace = True)"
   ]
  },
  {
   "cell_type": "markdown",
   "id": "b35866aa-6b27-4785-8056-1387c08ee9fc",
   "metadata": {},
   "source": [
    "# Tidiness issues\n",
    "## Merge dog stage columns\n",
    "\n",
    "Credit to this Udacity Knowledge page https://knowledge.udacity.com/questions/389519 - accessed February 9th, 2022- for the following efficient solution. \n",
    "To get these columns together, I'm going to replace all the \"None\" values with an empty string and add the columns as pandas Series. Then convert the empty strings into np.nan and drop the old dog stage columns."
   ]
  },
  {
   "cell_type": "code",
   "execution_count": 64,
   "id": "64a45239-6741-4684-a533-a4a606ef5a0b",
   "metadata": {},
   "outputs": [],
   "source": [
    "# replace \"None\" values with \"\" for each stage column\n",
    "twitter_archive_copy['pupper'].replace(\"None\", \"\", inplace = True)\n",
    "twitter_archive_copy['doggo'].replace(\"None\", \"\", inplace = True)\n",
    "twitter_archive_copy['puppo'].replace(\"None\", \"\", inplace = True)\n",
    "twitter_archive_copy['floofer'].replace(\"None\", \"\", inplace = True)"
   ]
  },
  {
   "cell_type": "code",
   "execution_count": 65,
   "id": "e7f2ff51-a94a-4aac-8b49-02079171a901",
   "metadata": {},
   "outputs": [],
   "source": [
    "#Create new column \"stage\" by adding the strings of old columns\n",
    "twitter_archive_copy['stage'] = (twitter_archive_copy['pupper'] + twitter_archive_copy['doggo']\n",
    "                                 + twitter_archive_copy['puppo'] + twitter_archive_copy['floofer'])\n",
    "\n",
    "# replace empty string values with np.nan\n",
    "twitter_archive_copy.loc[twitter_archive_copy.stage == \"\", 'stage'] = np.nan"
   ]
  },
  {
   "cell_type": "code",
   "execution_count": 66,
   "id": "df39794b-3254-45a4-82df-1036af4a3ab6",
   "metadata": {},
   "outputs": [
    {
     "data": {
      "text/plain": [
       "pupper          219\n",
       "doggo            69\n",
       "puppo            23\n",
       "pupperdoggo      10\n",
       "floofer           9\n",
       "doggopuppo        1\n",
       "doggofloofer      1\n",
       "Name: stage, dtype: int64"
      ]
     },
     "execution_count": 66,
     "metadata": {},
     "output_type": "execute_result"
    }
   ],
   "source": [
    "# test\n",
    "twitter_archive_copy['stage'].value_counts()"
   ]
  },
  {
   "cell_type": "markdown",
   "id": "e266282d-f0f4-4386-b865-0d33b69faa64",
   "metadata": {},
   "source": [
    "So some of the dogs are classified in than one stage, like \"pupperdoggo\" for example. These values would be better off as two separated words."
   ]
  },
  {
   "cell_type": "code",
   "execution_count": 67,
   "id": "a010302d-5a18-44e3-9cde-6262a63dc4b9",
   "metadata": {},
   "outputs": [],
   "source": [
    "# separate values with two stages\n",
    "twitter_archive_copy.loc[twitter_archive_copy.stage == 'pupperdoggo', 'stage'] = 'pupper, doggo'\n",
    "twitter_archive_copy.loc[twitter_archive_copy.stage == 'doggopuppo', 'stage'] = 'doggo, puppo'\n",
    "twitter_archive_copy.loc[twitter_archive_copy.stage == 'doggofloofer', 'stage'] = 'doggo, floofer'"
   ]
  },
  {
   "cell_type": "code",
   "execution_count": 68,
   "id": "9e169a13-f3e0-4cd6-b09b-512a7b4c0ead",
   "metadata": {},
   "outputs": [
    {
     "data": {
      "text/plain": [
       "pupper            219\n",
       "doggo              69\n",
       "puppo              23\n",
       "pupper, doggo      10\n",
       "floofer             9\n",
       "doggo, puppo        1\n",
       "doggo, floofer      1\n",
       "Name: stage, dtype: int64"
      ]
     },
     "execution_count": 68,
     "metadata": {},
     "output_type": "execute_result"
    }
   ],
   "source": [
    "# and test\n",
    "twitter_archive_copy['stage'].value_counts()"
   ]
  },
  {
   "cell_type": "code",
   "execution_count": 69,
   "id": "a543f056-dcd5-466e-8228-9cb928cae3e4",
   "metadata": {},
   "outputs": [],
   "source": [
    "# drop old dog stage columns \n",
    "twitter_archive_copy.drop(columns = {'doggo', 'floofer','pupper','puppo'},inplace = True)"
   ]
  },
  {
   "cell_type": "markdown",
   "id": "e0d044a9-c7a6-40b6-994a-52dcd5d29bbf",
   "metadata": {},
   "source": [
    "## Correct ratings\n",
    "\n",
    "This is not a tidiness issue, but in order to create a \"rating out of 10\" column, it it appropriate to have correct ratings first. \n",
    "\n",
    "I'm going to use the regex library to extract all ratings that have 10 as a denominator directly from the text column and put them in a new column, \"rating.\""
   ]
  },
  {
   "cell_type": "code",
   "execution_count": 70,
   "id": "7c56a213-53ca-4397-8f9a-9c34b399f27f",
   "metadata": {},
   "outputs": [],
   "source": [
    "# import regex\n",
    "import re\n",
    "\n",
    "# create rating column with regex extraction\n",
    "twitter_archive_copy['rating'] = twitter_archive_copy.text.str.extract(\"(\\d+/10)\", expand = True)"
   ]
  },
  {
   "cell_type": "markdown",
   "id": "e9b4fb4e-1dd0-4f63-8fd6-962ed4c1bb95",
   "metadata": {},
   "source": [
    "In the assessment phase I mentioned that it was a possibility that some actual WeRateDogs ratings where not out of ten. I'm going to see if the above function returned any NaN."
   ]
  },
  {
   "cell_type": "code",
   "execution_count": 71,
   "id": "43114359-fd92-4f92-b1f0-f7066255ebfe",
   "metadata": {},
   "outputs": [
    {
     "data": {
      "text/plain": [
       "True"
      ]
     },
     "execution_count": 71,
     "metadata": {},
     "output_type": "execute_result"
    }
   ],
   "source": [
    "twitter_archive_copy['rating'].isnull().any()"
   ]
  },
  {
   "cell_type": "markdown",
   "id": "b942bcf6-9217-4bf2-ab39-04339fda9dbf",
   "metadata": {},
   "source": [
    "Since the isnull() returned True, some of the texts did not have ratings out of ten. "
   ]
  },
  {
   "cell_type": "code",
   "execution_count": 72,
   "id": "45652115-68fd-4d45-bb00-13843930fc23",
   "metadata": {},
   "outputs": [
    {
     "data": {
      "text/plain": [
       "(13, 12)"
      ]
     },
     "execution_count": 72,
     "metadata": {},
     "output_type": "execute_result"
    }
   ],
   "source": [
    "twitter_archive_copy[twitter_archive_copy['rating'].isnull()].shape"
   ]
  },
  {
   "cell_type": "markdown",
   "id": "95303f02-d935-4937-829a-a143c2e1ff13",
   "metadata": {},
   "source": [
    "There are only 13. Since it isn't a large amount, I'm going to print the texts and take a look. "
   ]
  },
  {
   "cell_type": "code",
   "execution_count": 73,
   "id": "1bfeca92-92b5-4d3a-bae2-422b6a304e64",
   "metadata": {},
   "outputs": [
    {
     "name": "stdout",
     "output_type": "stream",
     "text": [
      "322 The floofs have been released I repeat the floofs have been released. 84/70 https://t.co/NIYC820tmd\n",
      "384 Meet Sam. She smiles 24/7 &amp; secretly aspires to be a reindeer. \n",
      "Keep Sam smiling by clicking and sharing this link:\n",
      "https://t.co/98tB8y7y7t https://t.co/LouL5vdvxx\n",
      "674 Why does this never happen at my front door... 165/150 https://t.co/HmwrdfEfUE\n",
      "878 Say hello to this unbelievably well behaved squad of doggos. 204/170 would try to pet all at once https://t.co/yGQI3He3xv\n",
      "984 Happy Saturday here's 9 puppers on a bench. 99/90 good work everybody https://t.co/mpvaVxKmc1\n",
      "1008 Here's a brigade of puppers. All look very prepared for whatever happens next. 80/80 https://t.co/0eb7R1Om12\n",
      "1028 From left to right:\n",
      "Cletus, Jerome, Alejandro, Burp, &amp; Titson\n",
      "None know where camera is. 45/50 would hug all at once https://t.co/sedre1ivTK\n",
      "1102 Here is a whole flock of puppers.  60/50 I'll take the lot https://t.co/9dpcw6MdWa\n",
      "1184 Happy Wednesday here's a bucket of pups. 44/40 would pet all at once https://t.co/HppvrYuamZ\n",
      "1376 Two sneaky puppers were not initially seen, moving the rating to 143/130. Please forgive us. Thank you https://t.co/kRK51Y5ac3\n",
      "1377 Someone help the girl is being mugged. Several are distracting her while two steal her shoes. Clever puppers 121/110 https://t.co/1zfnTJLt55\n",
      "1518 IT'S PUPPERGEDDON. Total of 144/120 ...I think https://t.co/ZanVtAtvIq\n",
      "1581 Here we have an entire platoon of puppers. Total score: 88/80 would pet all at once https://t.co/y93p6FLvVw\n"
     ]
    }
   ],
   "source": [
    "# get indexes for NaN ratings\n",
    "bad_rating_index = twitter_archive_copy[twitter_archive_copy.rating.isnull() == True].index\n",
    "\n",
    "# print with for loop and indexes\n",
    "for index in bad_rating_index:\n",
    "    print(index, twitter_archive_copy.text[index])"
   ]
  },
  {
   "cell_type": "markdown",
   "id": "a8122aec-b96c-4eb8-9408-5aaf56db81e1",
   "metadata": {},
   "source": [
    "-\n",
    "\n",
    "\n",
    "So it is true that some valid ratings are not out of 10. The only issue is row 384, where there is the expression \"24/7\" but no actual rating. \n",
    "\n",
    "With the other 12 rows, I will extract the ratings with regex by pulling ratings with any number in the numerator and any 2 or 3 digit number in the denominator. I will then insert these extracted values into the rating column. The function will throw an NaN for row 384. I will then drop that row because there is no rating. "
   ]
  },
  {
   "cell_type": "code",
   "execution_count": 74,
   "id": "ee178964-0725-416e-8682-285df2a6cd02",
   "metadata": {},
   "outputs": [],
   "source": [
    "# use np.r_ to make series of text column ONLY for the above 13 rows.\n",
    "\n",
    "bad_rating_series = twitter_archive_copy.text[np.r_[bad_rating_index]]\n",
    "\n",
    "# create an array with the extracted ratings\n",
    "bad_rating_array = bad_rating_series.str.extract(\"(\\d+/\\d{2,3})\", expand = True).values"
   ]
  },
  {
   "cell_type": "code",
   "execution_count": 75,
   "id": "b100250b-9eb6-44e0-bfdc-90e0e0eb3d8c",
   "metadata": {},
   "outputs": [
    {
     "data": {
      "text/plain": [
       "322       ['84/70']\n",
       "384           [nan]\n",
       "674     ['165/150']\n",
       "878     ['204/170']\n",
       "984       ['99/90']\n",
       "1008      ['80/80']\n",
       "1028      ['45/50']\n",
       "1102      ['60/50']\n",
       "1184      ['44/40']\n",
       "1376    ['143/130']\n",
       "1377    ['121/110']\n",
       "1518    ['144/120']\n",
       "1581      ['88/80']\n",
       "Name: rating, dtype: object"
      ]
     },
     "execution_count": 75,
     "metadata": {},
     "output_type": "execute_result"
    }
   ],
   "source": [
    "## use iloc to access element that corresponds to values in bad_rating_index, \n",
    "# replace element with rating extracted in bad_rating_array\n",
    "\n",
    "for array_index, rating_index in enumerate(bad_rating_index):\n",
    "    twitter_archive_copy.iloc[rating_index, -1] = str(bad_rating_array[array_index])\n",
    "    \n",
    "# check to see that ratings appear correctly\n",
    "twitter_archive_copy[twitter_archive_copy.index.isin(bad_rating_index)].rating"
   ]
  },
  {
   "cell_type": "markdown",
   "id": "8d6bf3fe-64ce-4cca-82df-75ed8fd5b47c",
   "metadata": {},
   "source": [
    "The ratings are all correct, but the formatting is not the same as the other ratings strings, because I used the .values function. Using a nested for loop and .replace, I can remove all the unwanted characters. "
   ]
  },
  {
   "cell_type": "code",
   "execution_count": 76,
   "id": "f9ae7fcb-7fa7-4f15-a091-d237d529a416",
   "metadata": {},
   "outputs": [
    {
     "data": {
      "text/plain": [
       "322       84/70\n",
       "384         nan\n",
       "674     165/150\n",
       "878     204/170\n",
       "984       99/90\n",
       "1008      80/80\n",
       "1028      45/50\n",
       "1102      60/50\n",
       "1184      44/40\n",
       "1376    143/130\n",
       "1377    121/110\n",
       "1518    144/120\n",
       "1581      88/80\n",
       "Name: rating, dtype: object"
      ]
     },
     "execution_count": 76,
     "metadata": {},
     "output_type": "execute_result"
    }
   ],
   "source": [
    "# create list of unwanted characters\n",
    "remove_chars = [\"[\",\"]\",\"'\"]\n",
    "\n",
    "# for each incorrectly formatted rating, access by looping through index list, then loop and replace extraneous characters\n",
    "for index in bad_rating_index:\n",
    "    for char in remove_chars:\n",
    "        twitter_archive_copy.iloc[index, -1] = twitter_archive_copy['rating'][index].replace(char, \"\")\n",
    "        \n",
    "        \n",
    "# check to see that the ratings are fixed     \n",
    "twitter_archive_copy[twitter_archive_copy.index.isin(bad_rating_index)].rating"
   ]
  },
  {
   "cell_type": "code",
   "execution_count": 77,
   "id": "ee09c720-cc68-4d2a-88a2-5a364d0c9010",
   "metadata": {},
   "outputs": [],
   "source": [
    "# get rid of 24/7 row\n",
    "twitter_archive_copy.drop(384, axis = 0, inplace = True)"
   ]
  },
  {
   "cell_type": "code",
   "execution_count": 78,
   "id": "4f982047-4647-4e40-844b-1067cac46b8d",
   "metadata": {},
   "outputs": [
    {
     "data": {
      "text/plain": [
       "12/10      483\n",
       "10/10      433\n",
       "11/10      417\n",
       "13/10      279\n",
       "9/10       154\n",
       "8/10        98\n",
       "7/10        51\n",
       "14/10       37\n",
       "5/10        34\n",
       "6/10        32\n",
       "3/10        19\n",
       "4/10        15\n",
       "2/10         9\n",
       "1/10         4\n",
       "60/50        1\n",
       "144/120      1\n",
       "88/80        1\n",
       "26/10        1\n",
       "121/110      1\n",
       "143/130      1\n",
       "44/40        1\n",
       "165/150      1\n",
       "45/50        1\n",
       "80/80        1\n",
       "99/90        1\n",
       "204/170      1\n",
       "1776/10      1\n",
       "27/10        1\n",
       "75/10        1\n",
       "84/70        1\n",
       "420/10       1\n",
       "Name: rating, dtype: int64"
      ]
     },
     "execution_count": 78,
     "metadata": {},
     "output_type": "execute_result"
    }
   ],
   "source": [
    "# test\n",
    "twitter_archive_copy.rating.value_counts()"
   ]
  },
  {
   "cell_type": "markdown",
   "id": "35b6d958-bb75-48b2-88dc-c7d7d439e71c",
   "metadata": {},
   "source": [
    "## Create \"rating/10\" Column\n",
    "Now that all the ratings are correct, I want to get them into a numeric form useful for analysis. To do this, I'm going to write a function to split the fraction string by the \"/\" symbol and divide the numerator by the denominator as integer types. This will give me a decimal, which multiplied by ten, will return what would be the numerator / 10. \n",
    "\n",
    "I will then apply the function to the rating column and create a new column, \"rating/10\"."
   ]
  },
  {
   "cell_type": "code",
   "execution_count": 79,
   "id": "5932982c-46e1-47a3-9c1d-4c452b201a63",
   "metadata": {},
   "outputs": [],
   "source": [
    "def get_over_ten_rating(rating):\n",
    "    \"\"\" Take a fraction in string form, return numerator of fraction as if denominator were 10. \"\"\"\n",
    "    r = rating.split(\"/\")\n",
    "    return  (int(r[0]) / int(r[1])) * 10"
   ]
  },
  {
   "cell_type": "code",
   "execution_count": 80,
   "id": "83c428e9-9558-4658-8496-c37d6e030617",
   "metadata": {},
   "outputs": [],
   "source": [
    "# apply above function as lambda function  to \"rating\" column to create \"rating/10\"\n",
    "twitter_archive_copy['rating/10'] = twitter_archive_copy.rating.apply(lambda x: get_over_ten_rating(x))"
   ]
  },
  {
   "cell_type": "code",
   "execution_count": 81,
   "id": "33483708-530a-471b-b11a-d1d978d6b419",
   "metadata": {},
   "outputs": [],
   "source": [
    "# drop all other rows that pertain to rating\n",
    "twitter_archive_copy.drop(columns = {'rating_numerator', 'rating_denominator', 'rating'}, inplace = True)"
   ]
  },
  {
   "cell_type": "markdown",
   "id": "593eeec8-7629-477a-baf8-35d8ab27a3c2",
   "metadata": {},
   "source": [
    "## URL in Text Column String\n",
    "\n",
    "For the last tidiness issue, I need to remove the shortened urls from the text strings. From the assessment phase, I know that the url appears at the end of the text after a space.\n",
    "\n",
    "I can therefore access it by splitting the text string by spaces and removing the last element in the list. Below I will write a function to achieve this and apply it to the text column as a lambda function."
   ]
  },
  {
   "cell_type": "code",
   "execution_count": 82,
   "id": "c809bc34-f2df-4cde-b032-3222948255ab",
   "metadata": {},
   "outputs": [],
   "source": [
    "def remove_url(text):\n",
    "    \"\"\"\n",
    "    Take string as argument, split string by ' ', \n",
    "    remove last element from string and return \n",
    "    string .\n",
    "    \"\"\"\n",
    "    url_to_remove = text.split(\" \")[-1]\n",
    "    new_text = text.replace(url_to_remove, \"\")\n",
    "    return new_text.strip()"
   ]
  },
  {
   "cell_type": "code",
   "execution_count": 83,
   "id": "0d07bb5e-a9f7-4a26-abac-d4a031c018c1",
   "metadata": {},
   "outputs": [],
   "source": [
    "twitter_archive_copy['text'] = twitter_archive_copy.text.apply(lambda x: remove_url(x))"
   ]
  },
  {
   "cell_type": "code",
   "execution_count": 84,
   "id": "1ace8301-b61f-468a-bc65-f8cbb7257991",
   "metadata": {},
   "outputs": [
    {
     "name": "stdout",
     "output_type": "stream",
     "text": [
      "This is Phineas. He's a mystical boy. Only ever appears in the hole of a donut. 13/10\n",
      "This is Tilly. She's just checking pup on you. Hopes you're doing ok. If not, she's available for pats, snugs, boops, the whole bit. 13/10\n",
      "This is Archie. He is a rare Norwegian Pouncing Corgo. Lives in the tall grass. You never know when one may strike. 12/10\n"
     ]
    }
   ],
   "source": [
    "# test by printing a few rows of text column \n",
    "for i in range(3):\n",
    "    print(twitter_archive_copy.text[i])"
   ]
  },
  {
   "cell_type": "markdown",
   "id": "6cccda05-96cc-43fd-9b0b-57ea03bebb57",
   "metadata": {},
   "source": [
    "# Other Cleaning\n",
    "\n",
    "Now that the tidiness issues in the twitter_archive dataframe have been adressed, I'll move on to the other cleanliness issues. \n",
    "Only two remain:\n",
    "* Some dog names are \"a\" - should be \"None\"\n",
    "* Source columns could be shortened for readability\n",
    "\n",
    "## Dog Name \"a\"\n",
    "\n",
    "This is not a huge problem, but it is nice to have everything in a dataset as correct as possible just in case. It is also an easy fix. I will simply replace the dog name \"a\" with \"None\".\n"
   ]
  },
  {
   "cell_type": "code",
   "execution_count": 85,
   "id": "e9c486bc-02e5-4a7a-a505-c362f4515560",
   "metadata": {},
   "outputs": [],
   "source": [
    "twitter_archive_copy.name.replace('a', 'None', inplace = True)"
   ]
  },
  {
   "cell_type": "code",
   "execution_count": 86,
   "id": "49e318d6-367f-4e12-a456-36d72c0d6b31",
   "metadata": {},
   "outputs": [
    {
     "data": {
      "text/html": [
       "<div>\n",
       "<style scoped>\n",
       "    .dataframe tbody tr th:only-of-type {\n",
       "        vertical-align: middle;\n",
       "    }\n",
       "\n",
       "    .dataframe tbody tr th {\n",
       "        vertical-align: top;\n",
       "    }\n",
       "\n",
       "    .dataframe thead th {\n",
       "        text-align: right;\n",
       "    }\n",
       "</style>\n",
       "<table border=\"1\" class=\"dataframe\">\n",
       "  <thead>\n",
       "    <tr style=\"text-align: right;\">\n",
       "      <th></th>\n",
       "      <th>tweet_id</th>\n",
       "      <th>in_reply_to_status_id</th>\n",
       "      <th>in_reply_to_user_id</th>\n",
       "      <th>timestamp</th>\n",
       "      <th>source</th>\n",
       "      <th>text</th>\n",
       "      <th>expanded_urls</th>\n",
       "      <th>name</th>\n",
       "      <th>stage</th>\n",
       "      <th>rating/10</th>\n",
       "    </tr>\n",
       "  </thead>\n",
       "  <tbody>\n",
       "  </tbody>\n",
       "</table>\n",
       "</div>"
      ],
      "text/plain": [
       "Empty DataFrame\n",
       "Columns: [tweet_id, in_reply_to_status_id, in_reply_to_user_id, timestamp, source, text, expanded_urls, name, stage, rating/10]\n",
       "Index: []"
      ]
     },
     "execution_count": 86,
     "metadata": {},
     "output_type": "execute_result"
    }
   ],
   "source": [
    "# and test- should return empty dataframe\n",
    "twitter_archive_copy.query(\"name == 'a'\")"
   ]
  },
  {
   "cell_type": "markdown",
   "id": "872c637b-6b49-476b-9e51-efe24099f8b7",
   "metadata": {},
   "source": [
    "## Lengthy Source Columns\n",
    "This issue can be fixed like the one just above. I will replace the lengthy source values with simpler ones:\n",
    "* Twitter app\n",
    "* Vine\n",
    "* Twitter website\n",
    "* TweetDeck"
   ]
  },
  {
   "cell_type": "code",
   "execution_count": 87,
   "id": "fcb77760-3c09-41d1-8747-362f80f49617",
   "metadata": {},
   "outputs": [
    {
     "data": {
      "text/plain": [
       "array(['<a href=\"http://twitter.com/download/iphone\" rel=\"nofollow\">Twitter for iPhone</a>',\n",
       "       '<a href=\"http://twitter.com\" rel=\"nofollow\">Twitter Web Client</a>',\n",
       "       '<a href=\"http://vine.co\" rel=\"nofollow\">Vine - Make a Scene</a>',\n",
       "       '<a href=\"https://about.twitter.com/products/tweetdeck\" rel=\"nofollow\">TweetDeck</a>'],\n",
       "      dtype=object)"
      ]
     },
     "execution_count": 87,
     "metadata": {},
     "output_type": "execute_result"
    }
   ],
   "source": [
    "# create list of unique source column values and view\n",
    "sources = twitter_archive_copy.source.unique()\n",
    "sources"
   ]
  },
  {
   "cell_type": "code",
   "execution_count": 88,
   "id": "4cf73c1d-b6d7-488f-acb0-44e4a2d3df51",
   "metadata": {},
   "outputs": [],
   "source": [
    "# replace values in above list with readable values\n",
    "twitter_archive_copy.source.replace(sources[0], \"Twitter app\", inplace = True)\n",
    "twitter_archive_copy.source.replace(sources[1], \"Twitter website\", inplace = True)\n",
    "twitter_archive_copy.source.replace(sources[2], \"Vine\", inplace = True)\n",
    "twitter_archive_copy.source.replace(sources[3], \"TweetDeck\", inplace = True)"
   ]
  },
  {
   "cell_type": "code",
   "execution_count": 89,
   "id": "8020a01f-7ac9-4f49-a84b-7d7c41d73bd9",
   "metadata": {},
   "outputs": [
    {
     "data": {
      "text/plain": [
       "Twitter app        1952\n",
       "Vine                 91\n",
       "Twitter website      28\n",
       "TweetDeck            11\n",
       "Name: source, dtype: int64"
      ]
     },
     "execution_count": 89,
     "metadata": {},
     "output_type": "execute_result"
    }
   ],
   "source": [
    "# test\n",
    "twitter_archive_copy.source.value_counts()"
   ]
  },
  {
   "cell_type": "markdown",
   "id": "8f43f91c-75b7-49d9-a175-4d863650bbfe",
   "metadata": {},
   "source": [
    "# Image Predictions DataFrame\n",
    "\n",
    "This DataFRame only has one issue:\n",
    "\n",
    "* Names of dog breeds associated with countries,regions, etc. are capitalized in prediction (\"p\") columns, e.g. \"Labrador_retriever.\" Difficult to know when to capitalize and when not to\n",
    "\n",
    "Of course, it will not affect the results of analysis at all, but it is simply easier for querying, especially given that many dog breeds have regions, countries, etc. in the name. It is also an easy fix. \n",
    "\n",
    "I will simply apply the .lower() function to all the prediction columns."
   ]
  },
  {
   "cell_type": "code",
   "execution_count": 90,
   "id": "2220fe97-0a7d-4fe7-95fb-2c3af5f7cd6e",
   "metadata": {},
   "outputs": [],
   "source": [
    "# run .lower function on p1, p2, p3 columns as lambda\n",
    "image_preds_copy['p1'] = image_preds_copy['p1'].map(lambda x: x.lower())\n",
    "image_preds_copy['p2'] = image_preds_copy['p2'].map(lambda x: x.lower())\n",
    "image_preds_copy['p3'] = image_preds_copy['p3'].map(lambda x: x.lower())"
   ]
  },
  {
   "cell_type": "code",
   "execution_count": 91,
   "id": "c3fa3e21-5881-488c-8671-76f009f114a9",
   "metadata": {},
   "outputs": [
    {
     "data": {
      "text/html": [
       "<div>\n",
       "<style scoped>\n",
       "    .dataframe tbody tr th:only-of-type {\n",
       "        vertical-align: middle;\n",
       "    }\n",
       "\n",
       "    .dataframe tbody tr th {\n",
       "        vertical-align: top;\n",
       "    }\n",
       "\n",
       "    .dataframe thead th {\n",
       "        text-align: right;\n",
       "    }\n",
       "</style>\n",
       "<table border=\"1\" class=\"dataframe\">\n",
       "  <thead>\n",
       "    <tr style=\"text-align: right;\">\n",
       "      <th></th>\n",
       "      <th>tweet_id</th>\n",
       "      <th>jpg_url</th>\n",
       "      <th>img_num</th>\n",
       "      <th>p1</th>\n",
       "      <th>p1_conf</th>\n",
       "      <th>p1_dog</th>\n",
       "      <th>p2</th>\n",
       "      <th>p2_conf</th>\n",
       "      <th>p2_dog</th>\n",
       "      <th>p3</th>\n",
       "      <th>p3_conf</th>\n",
       "      <th>p3_dog</th>\n",
       "    </tr>\n",
       "  </thead>\n",
       "  <tbody>\n",
       "    <tr>\n",
       "      <th>0</th>\n",
       "      <td>666020888022790149</td>\n",
       "      <td>https://pbs.twimg.com/media/CT4udn0WwAA0aMy.jpg</td>\n",
       "      <td>1</td>\n",
       "      <td>welsh_springer_spaniel</td>\n",
       "      <td>0.465074</td>\n",
       "      <td>True</td>\n",
       "      <td>collie</td>\n",
       "      <td>0.156665</td>\n",
       "      <td>True</td>\n",
       "      <td>shetland_sheepdog</td>\n",
       "      <td>0.061428</td>\n",
       "      <td>True</td>\n",
       "    </tr>\n",
       "    <tr>\n",
       "      <th>1</th>\n",
       "      <td>666029285002620928</td>\n",
       "      <td>https://pbs.twimg.com/media/CT42GRgUYAA5iDo.jpg</td>\n",
       "      <td>1</td>\n",
       "      <td>redbone</td>\n",
       "      <td>0.506826</td>\n",
       "      <td>True</td>\n",
       "      <td>miniature_pinscher</td>\n",
       "      <td>0.074192</td>\n",
       "      <td>True</td>\n",
       "      <td>rhodesian_ridgeback</td>\n",
       "      <td>0.072010</td>\n",
       "      <td>True</td>\n",
       "    </tr>\n",
       "    <tr>\n",
       "      <th>2</th>\n",
       "      <td>666033412701032449</td>\n",
       "      <td>https://pbs.twimg.com/media/CT4521TWwAEvMyu.jpg</td>\n",
       "      <td>1</td>\n",
       "      <td>german_shepherd</td>\n",
       "      <td>0.596461</td>\n",
       "      <td>True</td>\n",
       "      <td>malinois</td>\n",
       "      <td>0.138584</td>\n",
       "      <td>True</td>\n",
       "      <td>bloodhound</td>\n",
       "      <td>0.116197</td>\n",
       "      <td>True</td>\n",
       "    </tr>\n",
       "    <tr>\n",
       "      <th>3</th>\n",
       "      <td>666044226329800704</td>\n",
       "      <td>https://pbs.twimg.com/media/CT5Dr8HUEAA-lEu.jpg</td>\n",
       "      <td>1</td>\n",
       "      <td>rhodesian_ridgeback</td>\n",
       "      <td>0.408143</td>\n",
       "      <td>True</td>\n",
       "      <td>redbone</td>\n",
       "      <td>0.360687</td>\n",
       "      <td>True</td>\n",
       "      <td>miniature_pinscher</td>\n",
       "      <td>0.222752</td>\n",
       "      <td>True</td>\n",
       "    </tr>\n",
       "    <tr>\n",
       "      <th>4</th>\n",
       "      <td>666049248165822465</td>\n",
       "      <td>https://pbs.twimg.com/media/CT5IQmsXIAAKY4A.jpg</td>\n",
       "      <td>1</td>\n",
       "      <td>miniature_pinscher</td>\n",
       "      <td>0.560311</td>\n",
       "      <td>True</td>\n",
       "      <td>rottweiler</td>\n",
       "      <td>0.243682</td>\n",
       "      <td>True</td>\n",
       "      <td>doberman</td>\n",
       "      <td>0.154629</td>\n",
       "      <td>True</td>\n",
       "    </tr>\n",
       "  </tbody>\n",
       "</table>\n",
       "</div>"
      ],
      "text/plain": [
       "             tweet_id                                          jpg_url  \\\n",
       "0  666020888022790149  https://pbs.twimg.com/media/CT4udn0WwAA0aMy.jpg   \n",
       "1  666029285002620928  https://pbs.twimg.com/media/CT42GRgUYAA5iDo.jpg   \n",
       "2  666033412701032449  https://pbs.twimg.com/media/CT4521TWwAEvMyu.jpg   \n",
       "3  666044226329800704  https://pbs.twimg.com/media/CT5Dr8HUEAA-lEu.jpg   \n",
       "4  666049248165822465  https://pbs.twimg.com/media/CT5IQmsXIAAKY4A.jpg   \n",
       "\n",
       "   img_num                      p1   p1_conf  p1_dog                  p2  \\\n",
       "0        1  welsh_springer_spaniel  0.465074    True              collie   \n",
       "1        1                 redbone  0.506826    True  miniature_pinscher   \n",
       "2        1         german_shepherd  0.596461    True            malinois   \n",
       "3        1     rhodesian_ridgeback  0.408143    True             redbone   \n",
       "4        1      miniature_pinscher  0.560311    True          rottweiler   \n",
       "\n",
       "    p2_conf  p2_dog                   p3   p3_conf  p3_dog  \n",
       "0  0.156665    True    shetland_sheepdog  0.061428    True  \n",
       "1  0.074192    True  rhodesian_ridgeback  0.072010    True  \n",
       "2  0.138584    True           bloodhound  0.116197    True  \n",
       "3  0.360687    True   miniature_pinscher  0.222752    True  \n",
       "4  0.243682    True             doberman  0.154629    True  "
      ]
     },
     "execution_count": 91,
     "metadata": {},
     "output_type": "execute_result"
    }
   ],
   "source": [
    "# test\n",
    "image_preds_copy.head()"
   ]
  },
  {
   "cell_type": "markdown",
   "id": "4c4534f9-84f1-4837-9960-db356ccc420e",
   "metadata": {},
   "source": [
    "# Twitter API DataFrame\n",
    "For this DataFrame as well, there is only one cleanliness issue:\n",
    "\n",
    "* incorrect datatype for all columns - should be int or float\n",
    "\n",
    "This issue, however, is critical for analysis. The retweet, like and tweet columns need to be int or float for quantitative analysis. \n",
    "\n",
    "It is also an easy fix though. I will loop through all the column and convert them to 'int64.'"
   ]
  },
  {
   "cell_type": "code",
   "execution_count": 92,
   "id": "26d5f6ae-d412-41b2-83b2-68416301d4fc",
   "metadata": {},
   "outputs": [],
   "source": [
    "for column in api_data.columns:\n",
    "    api_data_copy[column] = api_data_copy[column].astype('int64')"
   ]
  },
  {
   "cell_type": "code",
   "execution_count": 93,
   "id": "8e4d4e36-0133-4e4f-9c87-b95870b39766",
   "metadata": {},
   "outputs": [
    {
     "data": {
      "text/plain": [
       "retweet_count    int64\n",
       "reply_count      int64\n",
       "like_count       int64\n",
       "quote_count      int64\n",
       "id               int64\n",
       "dtype: object"
      ]
     },
     "execution_count": 93,
     "metadata": {},
     "output_type": "execute_result"
    }
   ],
   "source": [
    "# test: all columns should be int64\n",
    "api_data_copy.dtypes"
   ]
  },
  {
   "cell_type": "markdown",
   "id": "65417bab-3c8b-40bc-a2f5-dd81ad9d308a",
   "metadata": {},
   "source": [
    "# Create Master DataFrame for WeRateDogs Twitter Data\n",
    "Now that all three DataFrames have been cleaned, it's time to merge them into one master DataFrame, master_df, which I will then save to a .csv file for later use. It's much easier to perform analysis if all the data is in one single file that can be loaded into one single DataFrame.\n",
    "\n",
    "To do this, I will do two left joins on \"tweet_id\" with the twitter_archive_copy DataFrame. The left joins will ensure that no data from retweets or other tweets removed from the twitter_archive DataFrame make their way into the master_df."
   ]
  },
  {
   "cell_type": "code",
   "execution_count": 94,
   "id": "88812fe5-02b5-419b-8192-f4a72a60f79b",
   "metadata": {},
   "outputs": [],
   "source": [
    "# join image_preds_copy with twitter_archive_copy on tweet id\n",
    "master_df = twitter_archive_copy.merge(image_preds_copy, how = 'left',on = 'tweet_id')"
   ]
  },
  {
   "cell_type": "code",
   "execution_count": 95,
   "id": "6b5cb9d8-b7ca-4836-a149-0306e783ab24",
   "metadata": {},
   "outputs": [],
   "source": [
    "# rename id column to \"tweet_id\" column in api_data_copy\n",
    "api_data_copy.rename(columns = {'id' : 'tweet_id'},inplace = True)\n",
    "\n",
    "# join api_data_copy with master_df\n",
    "master_df = master_df.merge(api_data_copy, how = 'left', on = 'tweet_id')"
   ]
  },
  {
   "cell_type": "code",
   "execution_count": 96,
   "id": "c0e48f41-570a-44b6-81cc-01be12c9cd2e",
   "metadata": {},
   "outputs": [
    {
     "data": {
      "text/html": [
       "<div>\n",
       "<style scoped>\n",
       "    .dataframe tbody tr th:only-of-type {\n",
       "        vertical-align: middle;\n",
       "    }\n",
       "\n",
       "    .dataframe tbody tr th {\n",
       "        vertical-align: top;\n",
       "    }\n",
       "\n",
       "    .dataframe thead th {\n",
       "        text-align: right;\n",
       "    }\n",
       "</style>\n",
       "<table border=\"1\" class=\"dataframe\">\n",
       "  <thead>\n",
       "    <tr style=\"text-align: right;\">\n",
       "      <th></th>\n",
       "      <th>tweet_id</th>\n",
       "      <th>in_reply_to_status_id</th>\n",
       "      <th>in_reply_to_user_id</th>\n",
       "      <th>timestamp</th>\n",
       "      <th>source</th>\n",
       "      <th>text</th>\n",
       "      <th>expanded_urls</th>\n",
       "      <th>name</th>\n",
       "      <th>stage</th>\n",
       "      <th>rating/10</th>\n",
       "      <th>...</th>\n",
       "      <th>p2</th>\n",
       "      <th>p2_conf</th>\n",
       "      <th>p2_dog</th>\n",
       "      <th>p3</th>\n",
       "      <th>p3_conf</th>\n",
       "      <th>p3_dog</th>\n",
       "      <th>retweet_count</th>\n",
       "      <th>reply_count</th>\n",
       "      <th>like_count</th>\n",
       "      <th>quote_count</th>\n",
       "    </tr>\n",
       "  </thead>\n",
       "  <tbody>\n",
       "    <tr>\n",
       "      <th>0</th>\n",
       "      <td>892420643555336193</td>\n",
       "      <td>NaN</td>\n",
       "      <td>NaN</td>\n",
       "      <td>2017-08-01 16:23:56 +0000</td>\n",
       "      <td>Twitter app</td>\n",
       "      <td>This is Phineas. He's a mystical boy. Only eve...</td>\n",
       "      <td>https://twitter.com/dog_rates/status/892420643...</td>\n",
       "      <td>Phineas</td>\n",
       "      <td>NaN</td>\n",
       "      <td>13.0</td>\n",
       "      <td>...</td>\n",
       "      <td>bagel</td>\n",
       "      <td>0.085851</td>\n",
       "      <td>False</td>\n",
       "      <td>banana</td>\n",
       "      <td>0.076110</td>\n",
       "      <td>False</td>\n",
       "      <td>7104.0</td>\n",
       "      <td>145.0</td>\n",
       "      <td>34218.0</td>\n",
       "      <td>219.0</td>\n",
       "    </tr>\n",
       "    <tr>\n",
       "      <th>1</th>\n",
       "      <td>892177421306343426</td>\n",
       "      <td>NaN</td>\n",
       "      <td>NaN</td>\n",
       "      <td>2017-08-01 00:17:27 +0000</td>\n",
       "      <td>Twitter app</td>\n",
       "      <td>This is Tilly. She's just checking pup on you....</td>\n",
       "      <td>https://twitter.com/dog_rates/status/892177421...</td>\n",
       "      <td>Tilly</td>\n",
       "      <td>NaN</td>\n",
       "      <td>13.0</td>\n",
       "      <td>...</td>\n",
       "      <td>pekinese</td>\n",
       "      <td>0.090647</td>\n",
       "      <td>True</td>\n",
       "      <td>papillon</td>\n",
       "      <td>0.068957</td>\n",
       "      <td>True</td>\n",
       "      <td>5350.0</td>\n",
       "      <td>172.0</td>\n",
       "      <td>29672.0</td>\n",
       "      <td>274.0</td>\n",
       "    </tr>\n",
       "    <tr>\n",
       "      <th>2</th>\n",
       "      <td>891815181378084864</td>\n",
       "      <td>NaN</td>\n",
       "      <td>NaN</td>\n",
       "      <td>2017-07-31 00:18:03 +0000</td>\n",
       "      <td>Twitter app</td>\n",
       "      <td>This is Archie. He is a rare Norwegian Pouncin...</td>\n",
       "      <td>https://twitter.com/dog_rates/status/891815181...</td>\n",
       "      <td>Archie</td>\n",
       "      <td>NaN</td>\n",
       "      <td>12.0</td>\n",
       "      <td>...</td>\n",
       "      <td>malamute</td>\n",
       "      <td>0.078253</td>\n",
       "      <td>True</td>\n",
       "      <td>kelpie</td>\n",
       "      <td>0.031379</td>\n",
       "      <td>True</td>\n",
       "      <td>3521.0</td>\n",
       "      <td>110.0</td>\n",
       "      <td>22345.0</td>\n",
       "      <td>145.0</td>\n",
       "    </tr>\n",
       "    <tr>\n",
       "      <th>3</th>\n",
       "      <td>891689557279858688</td>\n",
       "      <td>NaN</td>\n",
       "      <td>NaN</td>\n",
       "      <td>2017-07-30 15:58:51 +0000</td>\n",
       "      <td>Twitter app</td>\n",
       "      <td>This is Darla. She commenced a snooze mid meal...</td>\n",
       "      <td>https://twitter.com/dog_rates/status/891689557...</td>\n",
       "      <td>Darla</td>\n",
       "      <td>NaN</td>\n",
       "      <td>13.0</td>\n",
       "      <td>...</td>\n",
       "      <td>labrador_retriever</td>\n",
       "      <td>0.168086</td>\n",
       "      <td>True</td>\n",
       "      <td>spatula</td>\n",
       "      <td>0.040836</td>\n",
       "      <td>False</td>\n",
       "      <td>7303.0</td>\n",
       "      <td>143.0</td>\n",
       "      <td>37395.0</td>\n",
       "      <td>286.0</td>\n",
       "    </tr>\n",
       "    <tr>\n",
       "      <th>4</th>\n",
       "      <td>891327558926688256</td>\n",
       "      <td>NaN</td>\n",
       "      <td>NaN</td>\n",
       "      <td>2017-07-29 16:00:24 +0000</td>\n",
       "      <td>Twitter app</td>\n",
       "      <td>This is Franklin. He would like you to stop ca...</td>\n",
       "      <td>https://twitter.com/dog_rates/status/891327558...</td>\n",
       "      <td>Franklin</td>\n",
       "      <td>NaN</td>\n",
       "      <td>12.0</td>\n",
       "      <td>...</td>\n",
       "      <td>english_springer</td>\n",
       "      <td>0.225770</td>\n",
       "      <td>True</td>\n",
       "      <td>german_short-haired_pointer</td>\n",
       "      <td>0.175219</td>\n",
       "      <td>True</td>\n",
       "      <td>7850.0</td>\n",
       "      <td>194.0</td>\n",
       "      <td>35738.0</td>\n",
       "      <td>296.0</td>\n",
       "    </tr>\n",
       "  </tbody>\n",
       "</table>\n",
       "<p>5 rows × 25 columns</p>\n",
       "</div>"
      ],
      "text/plain": [
       "             tweet_id  in_reply_to_status_id  in_reply_to_user_id  \\\n",
       "0  892420643555336193                    NaN                  NaN   \n",
       "1  892177421306343426                    NaN                  NaN   \n",
       "2  891815181378084864                    NaN                  NaN   \n",
       "3  891689557279858688                    NaN                  NaN   \n",
       "4  891327558926688256                    NaN                  NaN   \n",
       "\n",
       "                   timestamp       source  \\\n",
       "0  2017-08-01 16:23:56 +0000  Twitter app   \n",
       "1  2017-08-01 00:17:27 +0000  Twitter app   \n",
       "2  2017-07-31 00:18:03 +0000  Twitter app   \n",
       "3  2017-07-30 15:58:51 +0000  Twitter app   \n",
       "4  2017-07-29 16:00:24 +0000  Twitter app   \n",
       "\n",
       "                                                text  \\\n",
       "0  This is Phineas. He's a mystical boy. Only eve...   \n",
       "1  This is Tilly. She's just checking pup on you....   \n",
       "2  This is Archie. He is a rare Norwegian Pouncin...   \n",
       "3  This is Darla. She commenced a snooze mid meal...   \n",
       "4  This is Franklin. He would like you to stop ca...   \n",
       "\n",
       "                                       expanded_urls      name stage  \\\n",
       "0  https://twitter.com/dog_rates/status/892420643...   Phineas   NaN   \n",
       "1  https://twitter.com/dog_rates/status/892177421...     Tilly   NaN   \n",
       "2  https://twitter.com/dog_rates/status/891815181...    Archie   NaN   \n",
       "3  https://twitter.com/dog_rates/status/891689557...     Darla   NaN   \n",
       "4  https://twitter.com/dog_rates/status/891327558...  Franklin   NaN   \n",
       "\n",
       "   rating/10  ...                  p2   p2_conf p2_dog  \\\n",
       "0       13.0  ...               bagel  0.085851  False   \n",
       "1       13.0  ...            pekinese  0.090647   True   \n",
       "2       12.0  ...            malamute  0.078253   True   \n",
       "3       13.0  ...  labrador_retriever  0.168086   True   \n",
       "4       12.0  ...    english_springer  0.225770   True   \n",
       "\n",
       "                            p3   p3_conf p3_dog  retweet_count reply_count  \\\n",
       "0                       banana  0.076110  False         7104.0       145.0   \n",
       "1                     papillon  0.068957   True         5350.0       172.0   \n",
       "2                       kelpie  0.031379   True         3521.0       110.0   \n",
       "3                      spatula  0.040836  False         7303.0       143.0   \n",
       "4  german_short-haired_pointer  0.175219   True         7850.0       194.0   \n",
       "\n",
       "  like_count  quote_count  \n",
       "0    34218.0        219.0  \n",
       "1    29672.0        274.0  \n",
       "2    22345.0        145.0  \n",
       "3    37395.0        286.0  \n",
       "4    35738.0        296.0  \n",
       "\n",
       "[5 rows x 25 columns]"
      ]
     },
     "execution_count": 96,
     "metadata": {},
     "output_type": "execute_result"
    }
   ],
   "source": [
    "# test\n",
    "master_df.head()"
   ]
  },
  {
   "cell_type": "code",
   "execution_count": 97,
   "id": "93917802-5f6e-4e7d-98f6-49976d166649",
   "metadata": {},
   "outputs": [
    {
     "name": "stdout",
     "output_type": "stream",
     "text": [
      "<class 'pandas.core.frame.DataFrame'>\n",
      "Int64Index: 2082 entries, 0 to 2081\n",
      "Data columns (total 25 columns):\n",
      " #   Column                 Non-Null Count  Dtype  \n",
      "---  ------                 --------------  -----  \n",
      " 0   tweet_id               2082 non-null   int64  \n",
      " 1   in_reply_to_status_id  22 non-null     float64\n",
      " 2   in_reply_to_user_id    22 non-null     float64\n",
      " 3   timestamp              2082 non-null   object \n",
      " 4   source                 2082 non-null   object \n",
      " 5   text                   2082 non-null   object \n",
      " 6   expanded_urls          2082 non-null   object \n",
      " 7   name                   2082 non-null   object \n",
      " 8   stage                  332 non-null    object \n",
      " 9   rating/10              2082 non-null   float64\n",
      " 10  jpg_url                1991 non-null   object \n",
      " 11  img_num                1991 non-null   float64\n",
      " 12  p1                     1991 non-null   object \n",
      " 13  p1_conf                1991 non-null   float64\n",
      " 14  p1_dog                 1991 non-null   object \n",
      " 15  p2                     1991 non-null   object \n",
      " 16  p2_conf                1991 non-null   float64\n",
      " 17  p2_dog                 1991 non-null   object \n",
      " 18  p3                     1991 non-null   object \n",
      " 19  p3_conf                1991 non-null   float64\n",
      " 20  p3_dog                 1991 non-null   object \n",
      " 21  retweet_count          2074 non-null   float64\n",
      " 22  reply_count            2074 non-null   float64\n",
      " 23  like_count             2074 non-null   float64\n",
      " 24  quote_count            2074 non-null   float64\n",
      "dtypes: float64(11), int64(1), object(13)\n",
      "memory usage: 422.9+ KB\n"
     ]
    }
   ],
   "source": [
    "# check for NaNs due to join\n",
    "master_df.info()"
   ]
  },
  {
   "cell_type": "markdown",
   "id": "28b380b5-a940-4782-8562-82aa981ed388",
   "metadata": {},
   "source": [
    "In the new master DataFame, in some rows, the Twitter API columns and image prediction columns have NaNs. This is because of the left join. The tweet IDs associated with these rows were most likely deleted during the cleaning of the Twitter archive frame, because they were retweets or not proper dog image ratings. It is also possible that they were deleted Tweets that could no longer be retrieved from the Twitter API. \n",
    "\n",
    "This is okay for now. I do not want to remove any more rows if it can be avoided, because some of the metrics I'll use for my analysis are exclusively in the Twitter archive columns, like 'rating/10' for example. "
   ]
  },
  {
   "cell_type": "markdown",
   "id": "8a76b82a-907f-4d87-b3fb-327fc2c47f8a",
   "metadata": {},
   "source": [
    "# Augmenting the Data with Month Column\n",
    "Now that I have all my data in one DataFrame, I would like to add a month column before downloading to .csv to do an analysis of change over time.\n"
   ]
  },
  {
   "cell_type": "markdown",
   "id": "c185f128-60c8-40c4-9c08-658072df588a",
   "metadata": {},
   "source": [
    "To get this column, I'll need to convert the timestamp column to DateTime type and extract the month and the year."
   ]
  },
  {
   "cell_type": "code",
   "execution_count": 98,
   "id": "be18a5d6-a870-4068-9f53-21cab81b4620",
   "metadata": {},
   "outputs": [],
   "source": [
    "# convert to datetime, pull month and year with .strftime\n",
    "master_df['monthyear'] = pd.to_datetime(master_df.timestamp).dt.strftime('%Y-%m')"
   ]
  },
  {
   "cell_type": "code",
   "execution_count": 99,
   "id": "c2b7840c-c393-47a9-bb5a-9a8a5d7a8987",
   "metadata": {},
   "outputs": [
    {
     "data": {
      "text/html": [
       "<div>\n",
       "<style scoped>\n",
       "    .dataframe tbody tr th:only-of-type {\n",
       "        vertical-align: middle;\n",
       "    }\n",
       "\n",
       "    .dataframe tbody tr th {\n",
       "        vertical-align: top;\n",
       "    }\n",
       "\n",
       "    .dataframe thead th {\n",
       "        text-align: right;\n",
       "    }\n",
       "</style>\n",
       "<table border=\"1\" class=\"dataframe\">\n",
       "  <thead>\n",
       "    <tr style=\"text-align: right;\">\n",
       "      <th></th>\n",
       "      <th>tweet_id</th>\n",
       "      <th>in_reply_to_status_id</th>\n",
       "      <th>in_reply_to_user_id</th>\n",
       "      <th>timestamp</th>\n",
       "      <th>source</th>\n",
       "      <th>text</th>\n",
       "      <th>expanded_urls</th>\n",
       "      <th>name</th>\n",
       "      <th>stage</th>\n",
       "      <th>rating/10</th>\n",
       "      <th>...</th>\n",
       "      <th>p2_conf</th>\n",
       "      <th>p2_dog</th>\n",
       "      <th>p3</th>\n",
       "      <th>p3_conf</th>\n",
       "      <th>p3_dog</th>\n",
       "      <th>retweet_count</th>\n",
       "      <th>reply_count</th>\n",
       "      <th>like_count</th>\n",
       "      <th>quote_count</th>\n",
       "      <th>monthyear</th>\n",
       "    </tr>\n",
       "  </thead>\n",
       "  <tbody>\n",
       "    <tr>\n",
       "      <th>0</th>\n",
       "      <td>892420643555336193</td>\n",
       "      <td>NaN</td>\n",
       "      <td>NaN</td>\n",
       "      <td>2017-08-01 16:23:56 +0000</td>\n",
       "      <td>Twitter app</td>\n",
       "      <td>This is Phineas. He's a mystical boy. Only eve...</td>\n",
       "      <td>https://twitter.com/dog_rates/status/892420643...</td>\n",
       "      <td>Phineas</td>\n",
       "      <td>NaN</td>\n",
       "      <td>13.0</td>\n",
       "      <td>...</td>\n",
       "      <td>0.085851</td>\n",
       "      <td>False</td>\n",
       "      <td>banana</td>\n",
       "      <td>0.076110</td>\n",
       "      <td>False</td>\n",
       "      <td>7104.0</td>\n",
       "      <td>145.0</td>\n",
       "      <td>34218.0</td>\n",
       "      <td>219.0</td>\n",
       "      <td>2017-08</td>\n",
       "    </tr>\n",
       "    <tr>\n",
       "      <th>1</th>\n",
       "      <td>892177421306343426</td>\n",
       "      <td>NaN</td>\n",
       "      <td>NaN</td>\n",
       "      <td>2017-08-01 00:17:27 +0000</td>\n",
       "      <td>Twitter app</td>\n",
       "      <td>This is Tilly. She's just checking pup on you....</td>\n",
       "      <td>https://twitter.com/dog_rates/status/892177421...</td>\n",
       "      <td>Tilly</td>\n",
       "      <td>NaN</td>\n",
       "      <td>13.0</td>\n",
       "      <td>...</td>\n",
       "      <td>0.090647</td>\n",
       "      <td>True</td>\n",
       "      <td>papillon</td>\n",
       "      <td>0.068957</td>\n",
       "      <td>True</td>\n",
       "      <td>5350.0</td>\n",
       "      <td>172.0</td>\n",
       "      <td>29672.0</td>\n",
       "      <td>274.0</td>\n",
       "      <td>2017-08</td>\n",
       "    </tr>\n",
       "    <tr>\n",
       "      <th>2</th>\n",
       "      <td>891815181378084864</td>\n",
       "      <td>NaN</td>\n",
       "      <td>NaN</td>\n",
       "      <td>2017-07-31 00:18:03 +0000</td>\n",
       "      <td>Twitter app</td>\n",
       "      <td>This is Archie. He is a rare Norwegian Pouncin...</td>\n",
       "      <td>https://twitter.com/dog_rates/status/891815181...</td>\n",
       "      <td>Archie</td>\n",
       "      <td>NaN</td>\n",
       "      <td>12.0</td>\n",
       "      <td>...</td>\n",
       "      <td>0.078253</td>\n",
       "      <td>True</td>\n",
       "      <td>kelpie</td>\n",
       "      <td>0.031379</td>\n",
       "      <td>True</td>\n",
       "      <td>3521.0</td>\n",
       "      <td>110.0</td>\n",
       "      <td>22345.0</td>\n",
       "      <td>145.0</td>\n",
       "      <td>2017-07</td>\n",
       "    </tr>\n",
       "  </tbody>\n",
       "</table>\n",
       "<p>3 rows × 26 columns</p>\n",
       "</div>"
      ],
      "text/plain": [
       "             tweet_id  in_reply_to_status_id  in_reply_to_user_id  \\\n",
       "0  892420643555336193                    NaN                  NaN   \n",
       "1  892177421306343426                    NaN                  NaN   \n",
       "2  891815181378084864                    NaN                  NaN   \n",
       "\n",
       "                   timestamp       source  \\\n",
       "0  2017-08-01 16:23:56 +0000  Twitter app   \n",
       "1  2017-08-01 00:17:27 +0000  Twitter app   \n",
       "2  2017-07-31 00:18:03 +0000  Twitter app   \n",
       "\n",
       "                                                text  \\\n",
       "0  This is Phineas. He's a mystical boy. Only eve...   \n",
       "1  This is Tilly. She's just checking pup on you....   \n",
       "2  This is Archie. He is a rare Norwegian Pouncin...   \n",
       "\n",
       "                                       expanded_urls     name stage  \\\n",
       "0  https://twitter.com/dog_rates/status/892420643...  Phineas   NaN   \n",
       "1  https://twitter.com/dog_rates/status/892177421...    Tilly   NaN   \n",
       "2  https://twitter.com/dog_rates/status/891815181...   Archie   NaN   \n",
       "\n",
       "   rating/10  ...   p2_conf  p2_dog        p3   p3_conf p3_dog retweet_count  \\\n",
       "0       13.0  ...  0.085851   False    banana  0.076110  False        7104.0   \n",
       "1       13.0  ...  0.090647    True  papillon  0.068957   True        5350.0   \n",
       "2       12.0  ...  0.078253    True    kelpie  0.031379   True        3521.0   \n",
       "\n",
       "   reply_count like_count quote_count  monthyear  \n",
       "0        145.0    34218.0       219.0    2017-08  \n",
       "1        172.0    29672.0       274.0    2017-08  \n",
       "2        110.0    22345.0       145.0    2017-07  \n",
       "\n",
       "[3 rows x 26 columns]"
      ]
     },
     "execution_count": 99,
     "metadata": {},
     "output_type": "execute_result"
    }
   ],
   "source": [
    "# test\n",
    "master_df.head(3)"
   ]
  },
  {
   "cell_type": "markdown",
   "id": "39344332-d889-4c8f-92aa-4df42ca50b40",
   "metadata": {},
   "source": [
    "# Storing Data\n",
    "And there you have have it. This new master DataFrame of WeRateDogs tweets is now sufficiently clean for analysis. To finish, I will download the frame to a .csv file \"twitter_archive_master.csv\" to use later."
   ]
  },
  {
   "cell_type": "code",
   "execution_count": 100,
   "id": "9cbaa444-af6f-4b03-ac6b-ff2ff8165207",
   "metadata": {},
   "outputs": [],
   "source": [
    "master_df.to_csv('twitter_archive_master.csv', index = False)"
   ]
  },
  {
   "cell_type": "markdown",
   "id": "a76788c3-b10c-48e4-bcf7-43bb50f47dad",
   "metadata": {},
   "source": [
    "# Analyzing and Visualizing Data\n",
    "Now that I have a cleaned master DataFrame, I can begin my analysis.\n",
    "# How has the WeRateDogs Twitter page changed over time?\n",
    "Since I already know that the popularity of the WeRateDogs page is huge, instead of looking at change in popularity metrics( likes, retweets), I'm going to look at the factors that give the page its unique style. I'll thus be looking at three columns:\n",
    "\n",
    "* the ratings over 10\n",
    "* the dog stages\n",
    "* the predicted breeds.\n",
    "\n",
    "I'll start by loading the data and sorting the frame by the \"monthyear\" column so that the tweets are in order by month."
   ]
  },
  {
   "cell_type": "code",
   "execution_count": 101,
   "id": "050a1a28-3928-4648-96da-b0270b8e9f37",
   "metadata": {},
   "outputs": [],
   "source": [
    "df = pd.read_csv('twitter_archive_master.csv')"
   ]
  },
  {
   "cell_type": "code",
   "execution_count": 102,
   "id": "b5713bdf-b825-49ee-b1df-eff9c362705e",
   "metadata": {},
   "outputs": [],
   "source": [
    "# sort data by month of year\n",
    "df = df.sort_values('monthyear')"
   ]
  },
  {
   "cell_type": "markdown",
   "id": "42edbe15-df5d-4473-973d-78d98c4956f5",
   "metadata": {},
   "source": [
    "## WeRateDogs Rating System\n",
    "I would like to look at the ratings. Specifically, whether or not the WeRateDogs rating system, that is, ratings with a numerator greater than the denominator (13/10), has always been standard practice. \n",
    "\n",
    "To do this, I'm going to get the proportion of typical WeRateDogs ratings ( numerator > denominator ) out of all ratings for each month, as well as the proportion of \"normal\" ratings for each month. "
   ]
  },
  {
   "cell_type": "code",
   "execution_count": 103,
   "id": "f2b79c54-7496-45a3-ad27-7e12b6d000bd",
   "metadata": {},
   "outputs": [],
   "source": [
    "# create count column\n",
    "df['count'] = 1\n",
    "\n",
    "# get count of typical WeRAteDogs ratings grouped by month\n",
    "WRD_rating_counts = df[df['rating/10'] > 10].groupby('monthyear').sum()['count']\n",
    "\n",
    "# get count of normal ratings grouped by month\n",
    "normal_rating_counts = df[df['rating/10'] <= 10].groupby('monthyear').sum()['count']\n",
    "\n",
    "# get total number of ratings grouped by month\n",
    "total_rating_counts = df.groupby('monthyear').sum()['count']"
   ]
  },
  {
   "cell_type": "code",
   "execution_count": 104,
   "id": "fe301c99-94d5-460c-b7c7-45359069a28a",
   "metadata": {},
   "outputs": [],
   "source": [
    "# get proportions of typical WRD ratings and \"normal\" ratings for each month\n",
    "WRD_rating_props = WRD_rating_counts / total_rating_counts\n",
    "normal_rating_props = normal_rating_counts / total_rating_counts"
   ]
  },
  {
   "cell_type": "markdown",
   "id": "f1bcfdd1-f639-411d-86d8-3c1a8e3a9c53",
   "metadata": {},
   "source": [
    "### Visualize ratings proportions by month\n",
    "Now that I have the proportions of normal ratings and typical WRD ratings for each month, I'm going to visualize them as line plots to see how the proportions have changed over time. \n",
    "\n",
    "I would like to credit this StackOverflow post for showing me how to add dotted lines to broken lines caused by NaNs:\n",
    "\n",
    "https://stackoverflow.com/questions/45176584/dotted-lines-instead-of-a-missing-value-in-matplotlib/45177055 - accessed February 11, 2022\n",
    "\n",
    "The NaNs are where some months did not have any \"normal\" ratings."
   ]
  },
  {
   "cell_type": "code",
   "execution_count": 105,
   "id": "406f4a1c-32a9-4523-843c-b3bd0ffd5299",
   "metadata": {},
   "outputs": [
    {
     "data": {
      "image/png": "[encoded data removed]",
      "text/plain": [
       "<Figure size 720x576 with 1 Axes>"
      ]
     },
     "metadata": {
      "needs_background": "light"
     },
     "output_type": "display_data"
    }
   ],
   "source": [
    "# get months of year for time series, x variable\n",
    "x = df['monthyear'].unique()\n",
    "\n",
    "# y variable is WRD ratings and \"normal\" ratings\n",
    "y = WRD_rating_props\n",
    "y1 = normal_rating_props\n",
    "\n",
    "# mask for dotted lines\n",
    "mask = np.isfinite(y1)\n",
    "\n",
    "# create figure object\n",
    "fig, ax = plt.subplots(figsize = (10,8))\n",
    "\n",
    "#plot WRD ratings \n",
    "ax.plot(x, y,color = 'blue', label = 'Rating with Numerator > Denominator')\n",
    "\n",
    "# plot dotted lines\n",
    "line, = ax.plot(x[mask],y1[mask],color = 'grey', ls=\"--\",lw=1)\n",
    "\n",
    "#plot \"normal\" ratings\n",
    "ax.plot(x,y1, color=line.get_color(), lw=1.5,label =  'Rating with Numerator < Denominator')\n",
    "plt.xlabel('month',fontsize = 14)\n",
    "plt.ylabel('proportion of total ratings',fontsize = 14)\n",
    "plt.title('Rise of the WeRateDogs Rating System', fontsize = 15)\n",
    "plt.xticks(rotation = 90);\n",
    "plt.legend()\n",
    "plt.show()"
   ]
  },
  {
   "cell_type": "markdown",
   "id": "bb9a43fa-c61c-4d33-9bd9-d596f0e83637",
   "metadata": {},
   "source": [
    "In the beginning, the WeRateDogs style ratings only represented about 20% of the total ratings, but by November 2016, almost *all* of the ratings have the denominator greater than the numerator, and the trend doesn't appear to be slowing.\n",
    "\n",
    "From the data, it seems the page's typical rating system started off as a few over-the-top ratings for exceptional dogs here and there, but as the page and the rating system gained traction, having ratings of above 100% became standard practice to the point of almost making \"normal\" ratings disappear from the page. "
   ]
  },
  {
   "cell_type": "markdown",
   "id": "4c159f41-4da2-4ce5-b0dd-cecbf986253d",
   "metadata": {},
   "source": [
    "## Dog Stages\n",
    "Next I'd like to look into the dog stages over time. I'll start by seeing how many of each stage are in the dataset."
   ]
  },
  {
   "cell_type": "code",
   "execution_count": 106,
   "id": "a7a97cf3-1e7b-410b-9295-8be51bb2f593",
   "metadata": {},
   "outputs": [
    {
     "data": {
      "text/plain": [
       "pupper            219\n",
       "doggo              69\n",
       "puppo              23\n",
       "pupper, doggo      10\n",
       "floofer             9\n",
       "doggo, floofer      1\n",
       "doggo, puppo        1\n",
       "Name: stage, dtype: int64"
      ]
     },
     "execution_count": 106,
     "metadata": {},
     "output_type": "execute_result"
    }
   ],
   "source": [
    "df.stage.value_counts()"
   ]
  },
  {
   "cell_type": "markdown",
   "id": "505a3ca7-e46b-4de2-9b39-815b4d5f410c",
   "metadata": {},
   "source": [
    "Other than the pupper stage, the others represent a very small part of the data. I can ask myself when each of the dog types appeared for the first time, excluding of course the doubled types (\"doggo, floofer\" for example)."
   ]
  },
  {
   "cell_type": "code",
   "execution_count": 107,
   "id": "0b7b7afc-e7ab-4d71-8956-6e21ac3eb92f",
   "metadata": {},
   "outputs": [
    {
     "name": "stdout",
     "output_type": "stream",
     "text": [
      "pupper first appeared in  2015-12\n",
      "doggo first appeared in  2016-04\n",
      "floofer first appeared in  2016-01\n",
      "puppo first appeared in  2016-06\n"
     ]
    }
   ],
   "source": [
    "\n",
    "stages = ['pupper','doggo','floofer','puppo']\n",
    "\n",
    "# loop through the stages, get index( note that df is now sorted by monthyear column)\n",
    "for stage in stages:\n",
    "    index = df[df.stage == stage].first_valid_index()\n",
    "    #print monthyear corresponding to index\n",
    "    print(stage, \"first appeared in \" , df[df.stage == stage].monthyear[index])"
   ]
  },
  {
   "cell_type": "markdown",
   "id": "5eb9465c-773d-4082-81ee-f4c4774f135f",
   "metadata": {},
   "source": [
    "The above shows that not all the stages were used since the beginning. Pupper appeared a month after, and floofer just one month after that, but doggo and pupper appeared several months later. The stages, much like the rating system, took time to become part of the typical WeRateDogs style. "
   ]
  },
  {
   "cell_type": "markdown",
   "id": "cb2360f0-5a88-43b7-8b9a-af65e9326e57",
   "metadata": {},
   "source": [
    "### Investigating the Use and Popularity of Pupper\n",
    "As stated above, most of the stages don't appear a lot in the dataset. Pupper does, however, so it would be interesting to take a look at its use and popularity over time. \n",
    "\n",
    "I'm going to look at the proportions of tweets that are puppers each month, as well as the median like count of puppers compared with other stages or NaN stage."
   ]
  },
  {
   "cell_type": "code",
   "execution_count": 108,
   "id": "c83cdd9e-5348-4c5a-a918-4175846610a5",
   "metadata": {},
   "outputs": [],
   "source": [
    "# get subset of df that is puppers\n",
    "puppers = df.query(\"stage == 'pupper'\")\n",
    "\n",
    "# get months in pupper df\n",
    "pupper_months = puppers.monthyear.unique()\n",
    "\n",
    "# # get count of tweets grouped by month... use .isin() to avoid NaNs with pupper months\n",
    "total_counts = df[df.monthyear.isin(pupper_months)].groupby('monthyear').sum()['count']\n",
    "\n",
    "# get count of pupper tweets each month\n",
    "pupper_counts = puppers.groupby('monthyear').sum()['count']\n",
    "\n",
    "# proportion of tweets that are puppers each month\n",
    "pupper_prop = pupper_counts / total_counts"
   ]
  },
  {
   "cell_type": "code",
   "execution_count": 109,
   "id": "62d5b7db-4e52-4b84-91da-b37e4c2e83bb",
   "metadata": {},
   "outputs": [
    {
     "data": {
      "text/plain": [
       "monthyear\n",
       "2015-12    66.0\n",
       "2016-01    44.0\n",
       "2016-02    23.0\n",
       "2016-03    12.0\n",
       "2016-04     9.0\n",
       "2016-05     9.0\n",
       "2016-06     8.0\n",
       "2016-07     9.0\n",
       "2016-08     2.0\n",
       "2016-09     8.0\n",
       "2016-10     1.0\n",
       "2016-11     4.0\n",
       "2016-12     4.0\n",
       "2017-01     3.0\n",
       "2017-02     4.0\n",
       "2017-03     3.0\n",
       "2017-04     2.0\n",
       "2017-05     1.0\n",
       "2017-06     4.0\n",
       "2017-07     3.0\n",
       "Name: count, dtype: float64"
      ]
     },
     "execution_count": 109,
     "metadata": {},
     "output_type": "execute_result"
    },
    {
     "data": {
      "image/png": "[encoded data removed]",
      "text/plain": [
       "<Figure size 432x288 with 1 Axes>"
      ]
     },
     "metadata": {
      "needs_background": "light"
     },
     "output_type": "display_data"
    }
   ],
   "source": [
    "# graph change in proportion of puppers over time\n",
    "plt.plot(pupper_months, pupper_prop, color = 'dodgerblue')\n",
    "plt.xticks(rotation = 90)\n",
    "plt.xlabel('month')\n",
    "plt.ylabel('proportion')\n",
    "plt.title('proportion of tweets that are puppers by month', fontsize = 14);\n",
    "\n",
    "# add number of pupper each month for reference\n",
    "pupper_counts"
   ]
  },
  {
   "cell_type": "markdown",
   "id": "66c92753-cff4-48db-a6c5-f9d89e234ad1",
   "metadata": {},
   "source": [
    "It seems that as the page evolved, pupper stage represented less and less tweets. From the pupper_counts series, we see that sometimes only one tweet in a given month is a pupper. \n",
    "\n",
    "Now I'll check out the popularity of puppers in terms of like count. I'm going to use the median to account for possible outliers, but it is important to reiterate that for some months, there are only one or two pupper tweets."
   ]
  },
  {
   "cell_type": "code",
   "execution_count": 110,
   "id": "8cc22c00-faa9-4bb0-af0b-d9f91750bdeb",
   "metadata": {},
   "outputs": [],
   "source": [
    "# get median like count for puppers grouped by month\n",
    "pupperlikes = puppers.groupby('monthyear').median()['like_count']\n",
    "\n",
    "# median like count for all other stages(including NaN) grouped by month\n",
    "not_pupper_likes = df[(df.monthyear.isin(pupper_months))\n",
    "                     & (df['stage'] != 'pupper')].groupby('monthyear').median()['like_count']"
   ]
  },
  {
   "cell_type": "markdown",
   "id": "afa7d242-d615-4767-a1a4-9ce67770a0c7",
   "metadata": {},
   "source": [
    "I'm going to use a barplot to show the difference in these two Series. Since puppers and not-puppers represent a categorical variable, I'll want to have all this info in the same DataFrame so that the 'hue' function will work. I'm going to convert the above two series to DataFrames, add a 'stage' column(pupper, not pupper) for each, and concatenate them.\n",
    "\n",
    "I'm also going to place the above graph next to the bar plot I'll create as a reminder of how the use of pupper stage in the tweets has dwindled."
   ]
  },
  {
   "cell_type": "code",
   "execution_count": 111,
   "id": "1718daa7-d908-4001-b068-124356f92f7e",
   "metadata": {},
   "outputs": [],
   "source": [
    "# convert above series to dataframe\n",
    "pupperlikes = pd.DataFrame(pupperlikes)\n",
    "not_pupper_likes = pd.DataFrame(not_pupper_likes)\n",
    "\n",
    "# add stage column\n",
    "pupperlikes['stage'] = 'pupper'\n",
    "not_pupper_likes['stage'] = 'not pupper'\n",
    "\n",
    "#concatenate\n",
    "pupper_vs_not = pd.concat([pupperlikes, not_pupper_likes])"
   ]
  },
  {
   "cell_type": "code",
   "execution_count": 112,
   "id": "0abe5596-fc77-49c2-8e45-d09e6a8c4e2e",
   "metadata": {},
   "outputs": [
    {
     "data": {
      "image/png": "[encoded data removed]",
      "text/plain": [
       "<Figure size 1224x432 with 2 Axes>"
      ]
     },
     "metadata": {
      "needs_background": "light"
     },
     "output_type": "display_data"
    }
   ],
   "source": [
    "# make two axes for the two graphs\n",
    "fig, (ax1, ax2) = plt.subplots(1,2,figsize = (17,6))\n",
    "fig.suptitle('Evolution of the Pupper', fontsize = 21)\n",
    "\n",
    "# plot pupper proportions graph\n",
    "ax1.plot(pupper_months, pupper_prop, color = 'dodgerblue')\n",
    "ax1.tick_params(labelrotation=90)\n",
    "ax1.set_title('Proportion of Tweets That Are Puppers by Month')\n",
    "ax1.set_xlabel('month',fontsize = 13)\n",
    "ax1.set_ylabel('proportion',fontsize = 13)\n",
    "\n",
    "# dictionary for color palette\n",
    "colors = {'pupper': 'dodgerblue', 'not pupper': 'grey'}\n",
    "\n",
    "#plot median like_counts over time\n",
    "ax2 = sns.barplot( data = pupper_vs_not, x = pupper_vs_not.index, y = 'like_count', hue = 'stage', palette = colors)\n",
    "ax2.set_title('Median Like Count by Month')\n",
    "ax2.set_xlabel('month', fontsize = 13)\n",
    "ax2.set_ylabel('median like count', fontsize = 13)\n",
    "plt.xticks(rotation = 90)\n",
    "plt.savefig('pupper_graphs.jpeg',bbox_inches = 'tight')\n",
    "\n"
   ]
  },
  {
   "cell_type": "markdown",
   "id": "e0e1b3ec-3298-4acc-9007-d34bc65364e0",
   "metadata": {},
   "source": [
    "From the above graph, it looks like toward the end of the dataset's time period, there is a rise in median like count for puppers relative to other stages. The WeRateDogs page used the term less and less, but to greater effect.\n",
    "\n",
    "However, for June, 2017, pupper's median like count dropped back below the like count for other stages. It would be interesting to see more data to see if the trend continued upward, or if it was just a few month streak."
   ]
  },
  {
   "cell_type": "markdown",
   "id": "58bcc4d4-fc11-4984-b9e8-0a0640dc1e38",
   "metadata": {},
   "source": [
    "## Predicted Breeds Over Time\n",
    "Since I have data on predicted dog breeds, I would like to know if a particular breed is consistently the most predicted breed of the month. First of all, I want to reiterate that these breeds are only *predictions*, so I'm only going to use those whose confidence level(\"p1_conf\" in the dataframe) is greater than 0.8. Since this isn't a clinical trial, I don't feel it is necessary to be more strict. "
   ]
  },
  {
   "cell_type": "code",
   "execution_count": 113,
   "id": "79678213-747e-485e-bc17-04f2f898ca8c",
   "metadata": {},
   "outputs": [
    {
     "data": {
      "text/plain": [
       "462"
      ]
     },
     "execution_count": 113,
     "metadata": {},
     "output_type": "execute_result"
    }
   ],
   "source": [
    "# get only rows with \"p1_conf > 0.8 and that are dogs\n",
    "high_conf_df = df[(df['p1_conf'] > .8) & (df['p1_dog'] == True)]\n",
    "\n",
    "# see how many datapoints remain\n",
    "high_conf_df.shape[0]"
   ]
  },
  {
   "cell_type": "markdown",
   "id": "da39ce9b-63d4-4ffa-a0f1-1d737c35a5cb",
   "metadata": {},
   "source": [
    "The high confidence level has whittled the data down significantly. A lot of tweets had a confidence level lower than .8, but that's okay. I want to have confident predictions to work with. \n",
    "\n",
    "Now that I have only breeds with a high confidence level, I'm going to get the most predicted breed for each month. For each month in the dataframe, I'm going to get the dog breed that appears most in tweets for that month, and store the breed and month in a dataframe, \"breed_of_the_month\"."
   ]
  },
  {
   "cell_type": "code",
   "execution_count": 114,
   "id": "a014e847-6f9d-4078-a6bd-d94fcfebc9c8",
   "metadata": {},
   "outputs": [],
   "source": [
    "# create empty dataframe with column for month and breed\n",
    "breed_of_the_month = pd.DataFrame(columns = ['month','pred_breed'])\n",
    "\n",
    "# loop through months of high_conf_df\n",
    "for month in high_conf_df.monthyear.unique():\n",
    "    breeds_for_month = high_conf_df[high_conf_df['monthyear'] == month]['p1'].value_counts() # value counts of each breed for month\n",
    "    breed_dict = {'month': month, 'pred_breed': breeds_for_month.index[0]} # get dict of month and breed\n",
    "    breed_of_the_month = pd.concat([breed_of_the_month, pd.DataFrame(breed_dict, index = [0])]) # concatenate with empty dataframe"
   ]
  },
  {
   "cell_type": "code",
   "execution_count": 115,
   "id": "5103b2f4-b8d9-4cb4-b88c-1bc6b41a6799",
   "metadata": {},
   "outputs": [
    {
     "data": {
      "text/html": [
       "<div>\n",
       "<style scoped>\n",
       "    .dataframe tbody tr th:only-of-type {\n",
       "        vertical-align: middle;\n",
       "    }\n",
       "\n",
       "    .dataframe tbody tr th {\n",
       "        vertical-align: top;\n",
       "    }\n",
       "\n",
       "    .dataframe thead th {\n",
       "        text-align: right;\n",
       "    }\n",
       "</style>\n",
       "<table border=\"1\" class=\"dataframe\">\n",
       "  <thead>\n",
       "    <tr style=\"text-align: right;\">\n",
       "      <th></th>\n",
       "      <th>month</th>\n",
       "      <th>pred_breed</th>\n",
       "    </tr>\n",
       "  </thead>\n",
       "  <tbody>\n",
       "    <tr>\n",
       "      <th>0</th>\n",
       "      <td>2015-11</td>\n",
       "      <td>chihuahua</td>\n",
       "    </tr>\n",
       "    <tr>\n",
       "      <th>0</th>\n",
       "      <td>2015-12</td>\n",
       "      <td>pug</td>\n",
       "    </tr>\n",
       "    <tr>\n",
       "      <th>0</th>\n",
       "      <td>2016-01</td>\n",
       "      <td>pug</td>\n",
       "    </tr>\n",
       "    <tr>\n",
       "      <th>0</th>\n",
       "      <td>2016-02</td>\n",
       "      <td>golden_retriever</td>\n",
       "    </tr>\n",
       "    <tr>\n",
       "      <th>0</th>\n",
       "      <td>2016-03</td>\n",
       "      <td>chihuahua</td>\n",
       "    </tr>\n",
       "    <tr>\n",
       "      <th>0</th>\n",
       "      <td>2016-04</td>\n",
       "      <td>samoyed</td>\n",
       "    </tr>\n",
       "    <tr>\n",
       "      <th>0</th>\n",
       "      <td>2016-05</td>\n",
       "      <td>pembroke</td>\n",
       "    </tr>\n",
       "    <tr>\n",
       "      <th>0</th>\n",
       "      <td>2016-06</td>\n",
       "      <td>golden_retriever</td>\n",
       "    </tr>\n",
       "    <tr>\n",
       "      <th>0</th>\n",
       "      <td>2016-07</td>\n",
       "      <td>golden_retriever</td>\n",
       "    </tr>\n",
       "    <tr>\n",
       "      <th>0</th>\n",
       "      <td>2016-08</td>\n",
       "      <td>toy_poodle</td>\n",
       "    </tr>\n",
       "    <tr>\n",
       "      <th>0</th>\n",
       "      <td>2016-09</td>\n",
       "      <td>chihuahua</td>\n",
       "    </tr>\n",
       "    <tr>\n",
       "      <th>0</th>\n",
       "      <td>2016-10</td>\n",
       "      <td>golden_retriever</td>\n",
       "    </tr>\n",
       "    <tr>\n",
       "      <th>0</th>\n",
       "      <td>2016-11</td>\n",
       "      <td>golden_retriever</td>\n",
       "    </tr>\n",
       "    <tr>\n",
       "      <th>0</th>\n",
       "      <td>2016-12</td>\n",
       "      <td>golden_retriever</td>\n",
       "    </tr>\n",
       "    <tr>\n",
       "      <th>0</th>\n",
       "      <td>2017-01</td>\n",
       "      <td>pomeranian</td>\n",
       "    </tr>\n",
       "    <tr>\n",
       "      <th>0</th>\n",
       "      <td>2017-02</td>\n",
       "      <td>west_highland_white_terrier</td>\n",
       "    </tr>\n",
       "    <tr>\n",
       "      <th>0</th>\n",
       "      <td>2017-03</td>\n",
       "      <td>labrador_retriever</td>\n",
       "    </tr>\n",
       "    <tr>\n",
       "      <th>0</th>\n",
       "      <td>2017-04</td>\n",
       "      <td>pembroke</td>\n",
       "    </tr>\n",
       "    <tr>\n",
       "      <th>0</th>\n",
       "      <td>2017-05</td>\n",
       "      <td>pembroke</td>\n",
       "    </tr>\n",
       "    <tr>\n",
       "      <th>0</th>\n",
       "      <td>2017-06</td>\n",
       "      <td>golden_retriever</td>\n",
       "    </tr>\n",
       "    <tr>\n",
       "      <th>0</th>\n",
       "      <td>2017-07</td>\n",
       "      <td>pembroke</td>\n",
       "    </tr>\n",
       "  </tbody>\n",
       "</table>\n",
       "</div>"
      ],
      "text/plain": [
       "     month                   pred_breed\n",
       "0  2015-11                    chihuahua\n",
       "0  2015-12                          pug\n",
       "0  2016-01                          pug\n",
       "0  2016-02             golden_retriever\n",
       "0  2016-03                    chihuahua\n",
       "0  2016-04                      samoyed\n",
       "0  2016-05                     pembroke\n",
       "0  2016-06             golden_retriever\n",
       "0  2016-07             golden_retriever\n",
       "0  2016-08                   toy_poodle\n",
       "0  2016-09                    chihuahua\n",
       "0  2016-10             golden_retriever\n",
       "0  2016-11             golden_retriever\n",
       "0  2016-12             golden_retriever\n",
       "0  2017-01                   pomeranian\n",
       "0  2017-02  west_highland_white_terrier\n",
       "0  2017-03           labrador_retriever\n",
       "0  2017-04                     pembroke\n",
       "0  2017-05                     pembroke\n",
       "0  2017-06             golden_retriever\n",
       "0  2017-07                     pembroke"
      ]
     },
     "execution_count": 115,
     "metadata": {},
     "output_type": "execute_result"
    }
   ],
   "source": [
    "breed_of_the_month"
   ]
  },
  {
   "cell_type": "markdown",
   "id": "fc8b83eb-4e90-4a83-9a19-fbc7b5b850a4",
   "metadata": {},
   "source": [
    "It looks like the golden retriever appears a lot. I'll make a barplot to visualize these counts."
   ]
  },
  {
   "cell_type": "code",
   "execution_count": 116,
   "id": "cd4422d1-a02a-4de7-a7ff-5f0bf3c12fdd",
   "metadata": {},
   "outputs": [],
   "source": [
    "# create color dictionary for barplot palette to highlight golden retriever\n",
    "\n",
    "color_dict = {}\n",
    "for breed in breed_of_the_month.pred_breed.unique():\n",
    "    if breed == 'golden_retriever':\n",
    "            color_dict.update({breed: 'dodgerblue'})\n",
    "    else:\n",
    "        color_dict.update({breed: 'grey'})"
   ]
  },
  {
   "cell_type": "code",
   "execution_count": 117,
   "id": "6ec33baf-44c8-4adb-bf28-1be4642f69f8",
   "metadata": {},
   "outputs": [
    {
     "data": {
      "image/png": "[encoded data removed]",
      "text/plain": [
       "<Figure size 720x504 with 1 Axes>"
      ]
     },
     "metadata": {
      "needs_background": "light"
     },
     "output_type": "display_data"
    }
   ],
   "source": [
    "# get order of breeds of the month from greatest to least\n",
    "order = breed_of_the_month['pred_breed'].value_counts().index\n",
    "\n",
    "\n",
    "plt.figure(figsize = (10,7))\n",
    "sns.countplot( x = breed_of_the_month['pred_breed'],order = order, palette = color_dict)\n",
    "plt.xticks(rotation = 45,)\n",
    "plt.xlabel('dog breed',fontsize = 14)\n",
    "plt.ylabel('# months as most predictded dog',fontsize = 14)\n",
    "plt.title('Golden retriever: Dog of the Year?', fontsize = 17);\n",
    "plt.savefig('goldenretriever.jpg', bbox_inches = 'tight')"
   ]
  },
  {
   "cell_type": "markdown",
   "id": "2249eb1e-2274-4583-8202-403ee50bfd7e",
   "metadata": {},
   "source": [
    "The golden retriever is the most predicted breed 7 months out of the 22 in the dataset. From the value counts above, it also appears these 7 months are somewhat spaced out. Given that these are only predictions, and most of the data was left out because of the confidence levels, I can't say whether or not the Golden Retriever is consistently the most tweeted breed across all months, but it is true for the parameters I set. "
   ]
  },
  {
   "cell_type": "markdown",
   "id": "ab6e30e7-fec2-4d0d-adc5-3146041eb75f",
   "metadata": {},
   "source": [
    "# Conclusions\n",
    "\n",
    "In the almost two years that the data spans, the voice of the WeRateDogs Twitter page evolved. The absurd ratings such as 13/10 or 16/10 became hallmarks. The page acquired a unique vocabulary for describing these dogs and their ratings, employing terms like \"floofer\",\"doggo\", and \"puppo\". And the \"pupper\", a name that appeared on the page almost since the beginning, went from being used frequently to sparingly , but with greater success in terms of likes. \n",
    "\n",
    "However, one thing that stayed somewhat constant was the most tweeted breed per month, the golden retriever. But this is only true insofar as the neural network's predictions are true, and many tweets are left out due to low confidence level. "
   ]
  }
 ],
 "metadata": {
  "kernelspec": {
   "display_name": "Python 3 (ipykernel)",
   "language": "python",
   "name": "python3"
  },
  "language_info": {
   "codemirror_mode": {
    "name": "ipython",
    "version": 3
   },
   "file_extension": ".py",
   "mimetype": "text/x-python",
   "name": "python",
   "nbconvert_exporter": "python",
   "pygments_lexer": "ipython3",
   "version": "3.9.6"
  }
 },
 "nbformat": 4,
 "nbformat_minor": 5
}
